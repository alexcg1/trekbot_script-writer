{
  "nbformat": 4,
  "nbformat_minor": 0,
  "metadata": {
    "kernelspec": {
      "language": "python",
      "display_name": "Python 3",
      "name": "python3"
    },
    "language_info": {
      "pygments_lexer": "ipython3",
      "nbconvert_exporter": "python",
      "version": "3.6.4",
      "file_extension": ".py",
      "codemirror_mode": {
        "name": "ipython",
        "version": 3
      },
      "name": "python",
      "mimetype": "text/x-python"
    },
    "colab": {
      "name": "trekbot-script-generator.ipynb",
      "provenance": [],
      "collapsed_sections": [],
      "toc_visible": true
    },
    "accelerator": "GPU",
    "widgets": {
      "application/vnd.jupyter.widget-state+json": {
        "b3817fe94c98426eae0edbe501e40ebb": {
          "model_module": "@jupyter-widgets/controls",
          "model_name": "HBoxModel",
          "state": {
            "_view_name": "HBoxView",
            "_dom_classes": [],
            "_model_name": "HBoxModel",
            "_view_module": "@jupyter-widgets/controls",
            "_model_module_version": "1.5.0",
            "_view_count": null,
            "_view_module_version": "1.5.0",
            "box_style": "",
            "layout": "IPY_MODEL_242cdf38d5bd492db95d8da1fbe5ed47",
            "_model_module": "@jupyter-widgets/controls",
            "children": [
              "IPY_MODEL_44b8a3403c9b4632a0ec41782c174107",
              "IPY_MODEL_419593f179d340febf1b67b7f8c7b65f"
            ]
          }
        },
        "242cdf38d5bd492db95d8da1fbe5ed47": {
          "model_module": "@jupyter-widgets/base",
          "model_name": "LayoutModel",
          "state": {
            "_view_name": "LayoutView",
            "grid_template_rows": null,
            "right": null,
            "justify_content": null,
            "_view_module": "@jupyter-widgets/base",
            "overflow": null,
            "_model_module_version": "1.2.0",
            "_view_count": null,
            "flex_flow": null,
            "width": null,
            "min_width": null,
            "border": null,
            "align_items": null,
            "bottom": null,
            "_model_module": "@jupyter-widgets/base",
            "top": null,
            "grid_column": null,
            "overflow_y": null,
            "overflow_x": null,
            "grid_auto_flow": null,
            "grid_area": null,
            "grid_template_columns": null,
            "flex": null,
            "_model_name": "LayoutModel",
            "justify_items": null,
            "grid_row": null,
            "max_height": null,
            "align_content": null,
            "visibility": null,
            "align_self": null,
            "height": null,
            "min_height": null,
            "padding": null,
            "grid_auto_rows": null,
            "grid_gap": null,
            "max_width": null,
            "order": null,
            "_view_module_version": "1.2.0",
            "grid_template_areas": null,
            "object_position": null,
            "object_fit": null,
            "grid_auto_columns": null,
            "margin": null,
            "display": null,
            "left": null
          }
        },
        "44b8a3403c9b4632a0ec41782c174107": {
          "model_module": "@jupyter-widgets/controls",
          "model_name": "FloatProgressModel",
          "state": {
            "_view_name": "ProgressView",
            "style": "IPY_MODEL_43a15fb8775f4e3e83f914cd06564594",
            "_dom_classes": [],
            "description": "Downloading: 100%",
            "_model_name": "FloatProgressModel",
            "bar_style": "success",
            "max": 655,
            "_view_module": "@jupyter-widgets/controls",
            "_model_module_version": "1.5.0",
            "value": 655,
            "_view_count": null,
            "_view_module_version": "1.5.0",
            "orientation": "horizontal",
            "min": 0,
            "description_tooltip": null,
            "_model_module": "@jupyter-widgets/controls",
            "layout": "IPY_MODEL_32e5238ac8e24a46b4638022ad272e09"
          }
        },
        "419593f179d340febf1b67b7f8c7b65f": {
          "model_module": "@jupyter-widgets/controls",
          "model_name": "HTMLModel",
          "state": {
            "_view_name": "HTMLView",
            "style": "IPY_MODEL_0094784ac17849d582f72ce7f2778a6d",
            "_dom_classes": [],
            "description": "",
            "_model_name": "HTMLModel",
            "placeholder": "​",
            "_view_module": "@jupyter-widgets/controls",
            "_model_module_version": "1.5.0",
            "value": " 655/655 [00:01&lt;00:00, 348B/s]",
            "_view_count": null,
            "_view_module_version": "1.5.0",
            "description_tooltip": null,
            "_model_module": "@jupyter-widgets/controls",
            "layout": "IPY_MODEL_9647e3991940466f92469365c82dd949"
          }
        },
        "43a15fb8775f4e3e83f914cd06564594": {
          "model_module": "@jupyter-widgets/controls",
          "model_name": "ProgressStyleModel",
          "state": {
            "_view_name": "StyleView",
            "_model_name": "ProgressStyleModel",
            "description_width": "initial",
            "_view_module": "@jupyter-widgets/base",
            "_model_module_version": "1.5.0",
            "_view_count": null,
            "_view_module_version": "1.2.0",
            "bar_color": null,
            "_model_module": "@jupyter-widgets/controls"
          }
        },
        "32e5238ac8e24a46b4638022ad272e09": {
          "model_module": "@jupyter-widgets/base",
          "model_name": "LayoutModel",
          "state": {
            "_view_name": "LayoutView",
            "grid_template_rows": null,
            "right": null,
            "justify_content": null,
            "_view_module": "@jupyter-widgets/base",
            "overflow": null,
            "_model_module_version": "1.2.0",
            "_view_count": null,
            "flex_flow": null,
            "width": null,
            "min_width": null,
            "border": null,
            "align_items": null,
            "bottom": null,
            "_model_module": "@jupyter-widgets/base",
            "top": null,
            "grid_column": null,
            "overflow_y": null,
            "overflow_x": null,
            "grid_auto_flow": null,
            "grid_area": null,
            "grid_template_columns": null,
            "flex": null,
            "_model_name": "LayoutModel",
            "justify_items": null,
            "grid_row": null,
            "max_height": null,
            "align_content": null,
            "visibility": null,
            "align_self": null,
            "height": null,
            "min_height": null,
            "padding": null,
            "grid_auto_rows": null,
            "grid_gap": null,
            "max_width": null,
            "order": null,
            "_view_module_version": "1.2.0",
            "grid_template_areas": null,
            "object_position": null,
            "object_fit": null,
            "grid_auto_columns": null,
            "margin": null,
            "display": null,
            "left": null
          }
        },
        "0094784ac17849d582f72ce7f2778a6d": {
          "model_module": "@jupyter-widgets/controls",
          "model_name": "DescriptionStyleModel",
          "state": {
            "_view_name": "StyleView",
            "_model_name": "DescriptionStyleModel",
            "description_width": "",
            "_view_module": "@jupyter-widgets/base",
            "_model_module_version": "1.5.0",
            "_view_count": null,
            "_view_module_version": "1.2.0",
            "_model_module": "@jupyter-widgets/controls"
          }
        },
        "9647e3991940466f92469365c82dd949": {
          "model_module": "@jupyter-widgets/base",
          "model_name": "LayoutModel",
          "state": {
            "_view_name": "LayoutView",
            "grid_template_rows": null,
            "right": null,
            "justify_content": null,
            "_view_module": "@jupyter-widgets/base",
            "overflow": null,
            "_model_module_version": "1.2.0",
            "_view_count": null,
            "flex_flow": null,
            "width": null,
            "min_width": null,
            "border": null,
            "align_items": null,
            "bottom": null,
            "_model_module": "@jupyter-widgets/base",
            "top": null,
            "grid_column": null,
            "overflow_y": null,
            "overflow_x": null,
            "grid_auto_flow": null,
            "grid_area": null,
            "grid_template_columns": null,
            "flex": null,
            "_model_name": "LayoutModel",
            "justify_items": null,
            "grid_row": null,
            "max_height": null,
            "align_content": null,
            "visibility": null,
            "align_self": null,
            "height": null,
            "min_height": null,
            "padding": null,
            "grid_auto_rows": null,
            "grid_gap": null,
            "max_width": null,
            "order": null,
            "_view_module_version": "1.2.0",
            "grid_template_areas": null,
            "object_position": null,
            "object_fit": null,
            "grid_auto_columns": null,
            "margin": null,
            "display": null,
            "left": null
          }
        },
        "e6542f3f9a3d49159760a1c0b002b5c5": {
          "model_module": "@jupyter-widgets/controls",
          "model_name": "HBoxModel",
          "state": {
            "_view_name": "HBoxView",
            "_dom_classes": [],
            "_model_name": "HBoxModel",
            "_view_module": "@jupyter-widgets/controls",
            "_model_module_version": "1.5.0",
            "_view_count": null,
            "_view_module_version": "1.5.0",
            "box_style": "",
            "layout": "IPY_MODEL_cbcbab3baab849febf047e5604a4f3d2",
            "_model_module": "@jupyter-widgets/controls",
            "children": [
              "IPY_MODEL_883985bd4d17442c90f34ed479293cf9",
              "IPY_MODEL_55c3368de56047d3bbd457ab385eb08e"
            ]
          }
        },
        "cbcbab3baab849febf047e5604a4f3d2": {
          "model_module": "@jupyter-widgets/base",
          "model_name": "LayoutModel",
          "state": {
            "_view_name": "LayoutView",
            "grid_template_rows": null,
            "right": null,
            "justify_content": null,
            "_view_module": "@jupyter-widgets/base",
            "overflow": null,
            "_model_module_version": "1.2.0",
            "_view_count": null,
            "flex_flow": null,
            "width": null,
            "min_width": null,
            "border": null,
            "align_items": null,
            "bottom": null,
            "_model_module": "@jupyter-widgets/base",
            "top": null,
            "grid_column": null,
            "overflow_y": null,
            "overflow_x": null,
            "grid_auto_flow": null,
            "grid_area": null,
            "grid_template_columns": null,
            "flex": null,
            "_model_name": "LayoutModel",
            "justify_items": null,
            "grid_row": null,
            "max_height": null,
            "align_content": null,
            "visibility": null,
            "align_self": null,
            "height": null,
            "min_height": null,
            "padding": null,
            "grid_auto_rows": null,
            "grid_gap": null,
            "max_width": null,
            "order": null,
            "_view_module_version": "1.2.0",
            "grid_template_areas": null,
            "object_position": null,
            "object_fit": null,
            "grid_auto_columns": null,
            "margin": null,
            "display": null,
            "left": null
          }
        },
        "883985bd4d17442c90f34ed479293cf9": {
          "model_module": "@jupyter-widgets/controls",
          "model_name": "FloatProgressModel",
          "state": {
            "_view_name": "ProgressView",
            "style": "IPY_MODEL_f2d7b63435464a3ca469f6d3ef40fa08",
            "_dom_classes": [],
            "description": "Downloading: 100%",
            "_model_name": "FloatProgressModel",
            "bar_style": "success",
            "max": 898669,
            "_view_module": "@jupyter-widgets/controls",
            "_model_module_version": "1.5.0",
            "value": 898669,
            "_view_count": null,
            "_view_module_version": "1.5.0",
            "orientation": "horizontal",
            "min": 0,
            "description_tooltip": null,
            "_model_module": "@jupyter-widgets/controls",
            "layout": "IPY_MODEL_1d6b5e6710204d73ac2f382a078f47ba"
          }
        },
        "55c3368de56047d3bbd457ab385eb08e": {
          "model_module": "@jupyter-widgets/controls",
          "model_name": "HTMLModel",
          "state": {
            "_view_name": "HTMLView",
            "style": "IPY_MODEL_6b81efd457794e82bfcc718894a66548",
            "_dom_classes": [],
            "description": "",
            "_model_name": "HTMLModel",
            "placeholder": "​",
            "_view_module": "@jupyter-widgets/controls",
            "_model_module_version": "1.5.0",
            "value": " 899k/899k [00:07&lt;00:00, 127kB/s]",
            "_view_count": null,
            "_view_module_version": "1.5.0",
            "description_tooltip": null,
            "_model_module": "@jupyter-widgets/controls",
            "layout": "IPY_MODEL_d7046a846ff445f1a939f34f4bdc546e"
          }
        },
        "f2d7b63435464a3ca469f6d3ef40fa08": {
          "model_module": "@jupyter-widgets/controls",
          "model_name": "ProgressStyleModel",
          "state": {
            "_view_name": "StyleView",
            "_model_name": "ProgressStyleModel",
            "description_width": "initial",
            "_view_module": "@jupyter-widgets/base",
            "_model_module_version": "1.5.0",
            "_view_count": null,
            "_view_module_version": "1.2.0",
            "bar_color": null,
            "_model_module": "@jupyter-widgets/controls"
          }
        },
        "1d6b5e6710204d73ac2f382a078f47ba": {
          "model_module": "@jupyter-widgets/base",
          "model_name": "LayoutModel",
          "state": {
            "_view_name": "LayoutView",
            "grid_template_rows": null,
            "right": null,
            "justify_content": null,
            "_view_module": "@jupyter-widgets/base",
            "overflow": null,
            "_model_module_version": "1.2.0",
            "_view_count": null,
            "flex_flow": null,
            "width": null,
            "min_width": null,
            "border": null,
            "align_items": null,
            "bottom": null,
            "_model_module": "@jupyter-widgets/base",
            "top": null,
            "grid_column": null,
            "overflow_y": null,
            "overflow_x": null,
            "grid_auto_flow": null,
            "grid_area": null,
            "grid_template_columns": null,
            "flex": null,
            "_model_name": "LayoutModel",
            "justify_items": null,
            "grid_row": null,
            "max_height": null,
            "align_content": null,
            "visibility": null,
            "align_self": null,
            "height": null,
            "min_height": null,
            "padding": null,
            "grid_auto_rows": null,
            "grid_gap": null,
            "max_width": null,
            "order": null,
            "_view_module_version": "1.2.0",
            "grid_template_areas": null,
            "object_position": null,
            "object_fit": null,
            "grid_auto_columns": null,
            "margin": null,
            "display": null,
            "left": null
          }
        },
        "6b81efd457794e82bfcc718894a66548": {
          "model_module": "@jupyter-widgets/controls",
          "model_name": "DescriptionStyleModel",
          "state": {
            "_view_name": "StyleView",
            "_model_name": "DescriptionStyleModel",
            "description_width": "",
            "_view_module": "@jupyter-widgets/base",
            "_model_module_version": "1.5.0",
            "_view_count": null,
            "_view_module_version": "1.2.0",
            "_model_module": "@jupyter-widgets/controls"
          }
        },
        "d7046a846ff445f1a939f34f4bdc546e": {
          "model_module": "@jupyter-widgets/base",
          "model_name": "LayoutModel",
          "state": {
            "_view_name": "LayoutView",
            "grid_template_rows": null,
            "right": null,
            "justify_content": null,
            "_view_module": "@jupyter-widgets/base",
            "overflow": null,
            "_model_module_version": "1.2.0",
            "_view_count": null,
            "flex_flow": null,
            "width": null,
            "min_width": null,
            "border": null,
            "align_items": null,
            "bottom": null,
            "_model_module": "@jupyter-widgets/base",
            "top": null,
            "grid_column": null,
            "overflow_y": null,
            "overflow_x": null,
            "grid_auto_flow": null,
            "grid_area": null,
            "grid_template_columns": null,
            "flex": null,
            "_model_name": "LayoutModel",
            "justify_items": null,
            "grid_row": null,
            "max_height": null,
            "align_content": null,
            "visibility": null,
            "align_self": null,
            "height": null,
            "min_height": null,
            "padding": null,
            "grid_auto_rows": null,
            "grid_gap": null,
            "max_width": null,
            "order": null,
            "_view_module_version": "1.2.0",
            "grid_template_areas": null,
            "object_position": null,
            "object_fit": null,
            "grid_auto_columns": null,
            "margin": null,
            "display": null,
            "left": null
          }
        },
        "2a47d134e7fd4c649d8c83eae9ea0e8b": {
          "model_module": "@jupyter-widgets/controls",
          "model_name": "HBoxModel",
          "state": {
            "_view_name": "HBoxView",
            "_dom_classes": [],
            "_model_name": "HBoxModel",
            "_view_module": "@jupyter-widgets/controls",
            "_model_module_version": "1.5.0",
            "_view_count": null,
            "_view_module_version": "1.5.0",
            "box_style": "",
            "layout": "IPY_MODEL_35cbccf42fa8465eb25a28cad8446820",
            "_model_module": "@jupyter-widgets/controls",
            "children": [
              "IPY_MODEL_9d6a3ea47d4c4018b4082c6daffe3fb3",
              "IPY_MODEL_07830945f57d4bf886db58651473af79"
            ]
          }
        },
        "35cbccf42fa8465eb25a28cad8446820": {
          "model_module": "@jupyter-widgets/base",
          "model_name": "LayoutModel",
          "state": {
            "_view_name": "LayoutView",
            "grid_template_rows": null,
            "right": null,
            "justify_content": null,
            "_view_module": "@jupyter-widgets/base",
            "overflow": null,
            "_model_module_version": "1.2.0",
            "_view_count": null,
            "flex_flow": null,
            "width": null,
            "min_width": null,
            "border": null,
            "align_items": null,
            "bottom": null,
            "_model_module": "@jupyter-widgets/base",
            "top": null,
            "grid_column": null,
            "overflow_y": null,
            "overflow_x": null,
            "grid_auto_flow": null,
            "grid_area": null,
            "grid_template_columns": null,
            "flex": null,
            "_model_name": "LayoutModel",
            "justify_items": null,
            "grid_row": null,
            "max_height": null,
            "align_content": null,
            "visibility": null,
            "align_self": null,
            "height": null,
            "min_height": null,
            "padding": null,
            "grid_auto_rows": null,
            "grid_gap": null,
            "max_width": null,
            "order": null,
            "_view_module_version": "1.2.0",
            "grid_template_areas": null,
            "object_position": null,
            "object_fit": null,
            "grid_auto_columns": null,
            "margin": null,
            "display": null,
            "left": null
          }
        },
        "9d6a3ea47d4c4018b4082c6daffe3fb3": {
          "model_module": "@jupyter-widgets/controls",
          "model_name": "FloatProgressModel",
          "state": {
            "_view_name": "ProgressView",
            "style": "IPY_MODEL_ccccf198f07749bdae5609e593dd6806",
            "_dom_classes": [],
            "description": "Downloading: 100%",
            "_model_name": "FloatProgressModel",
            "bar_style": "success",
            "max": 456318,
            "_view_module": "@jupyter-widgets/controls",
            "_model_module_version": "1.5.0",
            "value": 456318,
            "_view_count": null,
            "_view_module_version": "1.5.0",
            "orientation": "horizontal",
            "min": 0,
            "description_tooltip": null,
            "_model_module": "@jupyter-widgets/controls",
            "layout": "IPY_MODEL_84b89304f7734d3b90d1b873688e5914"
          }
        },
        "07830945f57d4bf886db58651473af79": {
          "model_module": "@jupyter-widgets/controls",
          "model_name": "HTMLModel",
          "state": {
            "_view_name": "HTMLView",
            "style": "IPY_MODEL_28cdf28f020541a88b27e79843d43e35",
            "_dom_classes": [],
            "description": "",
            "_model_name": "HTMLModel",
            "placeholder": "​",
            "_view_module": "@jupyter-widgets/controls",
            "_model_module_version": "1.5.0",
            "value": " 456k/456k [00:03&lt;00:00, 119kB/s]",
            "_view_count": null,
            "_view_module_version": "1.5.0",
            "description_tooltip": null,
            "_model_module": "@jupyter-widgets/controls",
            "layout": "IPY_MODEL_c5426ff9084246fa86501bc3b72d04d4"
          }
        },
        "ccccf198f07749bdae5609e593dd6806": {
          "model_module": "@jupyter-widgets/controls",
          "model_name": "ProgressStyleModel",
          "state": {
            "_view_name": "StyleView",
            "_model_name": "ProgressStyleModel",
            "description_width": "initial",
            "_view_module": "@jupyter-widgets/base",
            "_model_module_version": "1.5.0",
            "_view_count": null,
            "_view_module_version": "1.2.0",
            "bar_color": null,
            "_model_module": "@jupyter-widgets/controls"
          }
        },
        "84b89304f7734d3b90d1b873688e5914": {
          "model_module": "@jupyter-widgets/base",
          "model_name": "LayoutModel",
          "state": {
            "_view_name": "LayoutView",
            "grid_template_rows": null,
            "right": null,
            "justify_content": null,
            "_view_module": "@jupyter-widgets/base",
            "overflow": null,
            "_model_module_version": "1.2.0",
            "_view_count": null,
            "flex_flow": null,
            "width": null,
            "min_width": null,
            "border": null,
            "align_items": null,
            "bottom": null,
            "_model_module": "@jupyter-widgets/base",
            "top": null,
            "grid_column": null,
            "overflow_y": null,
            "overflow_x": null,
            "grid_auto_flow": null,
            "grid_area": null,
            "grid_template_columns": null,
            "flex": null,
            "_model_name": "LayoutModel",
            "justify_items": null,
            "grid_row": null,
            "max_height": null,
            "align_content": null,
            "visibility": null,
            "align_self": null,
            "height": null,
            "min_height": null,
            "padding": null,
            "grid_auto_rows": null,
            "grid_gap": null,
            "max_width": null,
            "order": null,
            "_view_module_version": "1.2.0",
            "grid_template_areas": null,
            "object_position": null,
            "object_fit": null,
            "grid_auto_columns": null,
            "margin": null,
            "display": null,
            "left": null
          }
        },
        "28cdf28f020541a88b27e79843d43e35": {
          "model_module": "@jupyter-widgets/controls",
          "model_name": "DescriptionStyleModel",
          "state": {
            "_view_name": "StyleView",
            "_model_name": "DescriptionStyleModel",
            "description_width": "",
            "_view_module": "@jupyter-widgets/base",
            "_model_module_version": "1.5.0",
            "_view_count": null,
            "_view_module_version": "1.2.0",
            "_model_module": "@jupyter-widgets/controls"
          }
        },
        "c5426ff9084246fa86501bc3b72d04d4": {
          "model_module": "@jupyter-widgets/base",
          "model_name": "LayoutModel",
          "state": {
            "_view_name": "LayoutView",
            "grid_template_rows": null,
            "right": null,
            "justify_content": null,
            "_view_module": "@jupyter-widgets/base",
            "overflow": null,
            "_model_module_version": "1.2.0",
            "_view_count": null,
            "flex_flow": null,
            "width": null,
            "min_width": null,
            "border": null,
            "align_items": null,
            "bottom": null,
            "_model_module": "@jupyter-widgets/base",
            "top": null,
            "grid_column": null,
            "overflow_y": null,
            "overflow_x": null,
            "grid_auto_flow": null,
            "grid_area": null,
            "grid_template_columns": null,
            "flex": null,
            "_model_name": "LayoutModel",
            "justify_items": null,
            "grid_row": null,
            "max_height": null,
            "align_content": null,
            "visibility": null,
            "align_self": null,
            "height": null,
            "min_height": null,
            "padding": null,
            "grid_auto_rows": null,
            "grid_gap": null,
            "max_width": null,
            "order": null,
            "_view_module_version": "1.2.0",
            "grid_template_areas": null,
            "object_position": null,
            "object_fit": null,
            "grid_auto_columns": null,
            "margin": null,
            "display": null,
            "left": null
          }
        },
        "53b3095c63594c0fb93323d0a35b07af": {
          "model_module": "@jupyter-widgets/controls",
          "model_name": "HBoxModel",
          "state": {
            "_view_name": "HBoxView",
            "_dom_classes": [],
            "_model_name": "HBoxModel",
            "_view_module": "@jupyter-widgets/controls",
            "_model_module_version": "1.5.0",
            "_view_count": null,
            "_view_module_version": "1.5.0",
            "box_style": "",
            "layout": "IPY_MODEL_32eb3949ab8b42bf9e673cd173521d8b",
            "_model_module": "@jupyter-widgets/controls",
            "children": [
              "IPY_MODEL_8859e7bcee6845b3817b9f5f2c3d11b5",
              "IPY_MODEL_9686a138e5a345f2b02d8d73f37d6129"
            ]
          }
        },
        "32eb3949ab8b42bf9e673cd173521d8b": {
          "model_module": "@jupyter-widgets/base",
          "model_name": "LayoutModel",
          "state": {
            "_view_name": "LayoutView",
            "grid_template_rows": null,
            "right": null,
            "justify_content": null,
            "_view_module": "@jupyter-widgets/base",
            "overflow": null,
            "_model_module_version": "1.2.0",
            "_view_count": null,
            "flex_flow": null,
            "width": null,
            "min_width": null,
            "border": null,
            "align_items": null,
            "bottom": null,
            "_model_module": "@jupyter-widgets/base",
            "top": null,
            "grid_column": null,
            "overflow_y": null,
            "overflow_x": null,
            "grid_auto_flow": null,
            "grid_area": null,
            "grid_template_columns": null,
            "flex": null,
            "_model_name": "LayoutModel",
            "justify_items": null,
            "grid_row": null,
            "max_height": null,
            "align_content": null,
            "visibility": null,
            "align_self": null,
            "height": null,
            "min_height": null,
            "padding": null,
            "grid_auto_rows": null,
            "grid_gap": null,
            "max_width": null,
            "order": null,
            "_view_module_version": "1.2.0",
            "grid_template_areas": null,
            "object_position": null,
            "object_fit": null,
            "grid_auto_columns": null,
            "margin": null,
            "display": null,
            "left": null
          }
        },
        "8859e7bcee6845b3817b9f5f2c3d11b5": {
          "model_module": "@jupyter-widgets/controls",
          "model_name": "FloatProgressModel",
          "state": {
            "_view_name": "ProgressView",
            "style": "IPY_MODEL_c993abaf88674fdd917c23738152f378",
            "_dom_classes": [],
            "description": "Downloading: 100%",
            "_model_name": "FloatProgressModel",
            "bar_style": "success",
            "max": 1444531445,
            "_view_module": "@jupyter-widgets/controls",
            "_model_module_version": "1.5.0",
            "value": 1444531445,
            "_view_count": null,
            "_view_module_version": "1.5.0",
            "orientation": "horizontal",
            "min": 0,
            "description_tooltip": null,
            "_model_module": "@jupyter-widgets/controls",
            "layout": "IPY_MODEL_8a573185392d49059bb18d4143cf51b2"
          }
        },
        "9686a138e5a345f2b02d8d73f37d6129": {
          "model_module": "@jupyter-widgets/controls",
          "model_name": "HTMLModel",
          "state": {
            "_view_name": "HTMLView",
            "style": "IPY_MODEL_72a71c6915114505a7a4779430774ded",
            "_dom_classes": [],
            "description": "",
            "_model_name": "HTMLModel",
            "placeholder": "​",
            "_view_module": "@jupyter-widgets/controls",
            "_model_module_version": "1.5.0",
            "value": " 1.44G/1.44G [01:08&lt;00:00, 21.0MB/s]",
            "_view_count": null,
            "_view_module_version": "1.5.0",
            "description_tooltip": null,
            "_model_module": "@jupyter-widgets/controls",
            "layout": "IPY_MODEL_37189f4f15cf4aa3bf00a25d0122654e"
          }
        },
        "c993abaf88674fdd917c23738152f378": {
          "model_module": "@jupyter-widgets/controls",
          "model_name": "ProgressStyleModel",
          "state": {
            "_view_name": "StyleView",
            "_model_name": "ProgressStyleModel",
            "description_width": "initial",
            "_view_module": "@jupyter-widgets/base",
            "_model_module_version": "1.5.0",
            "_view_count": null,
            "_view_module_version": "1.2.0",
            "bar_color": null,
            "_model_module": "@jupyter-widgets/controls"
          }
        },
        "8a573185392d49059bb18d4143cf51b2": {
          "model_module": "@jupyter-widgets/base",
          "model_name": "LayoutModel",
          "state": {
            "_view_name": "LayoutView",
            "grid_template_rows": null,
            "right": null,
            "justify_content": null,
            "_view_module": "@jupyter-widgets/base",
            "overflow": null,
            "_model_module_version": "1.2.0",
            "_view_count": null,
            "flex_flow": null,
            "width": null,
            "min_width": null,
            "border": null,
            "align_items": null,
            "bottom": null,
            "_model_module": "@jupyter-widgets/base",
            "top": null,
            "grid_column": null,
            "overflow_y": null,
            "overflow_x": null,
            "grid_auto_flow": null,
            "grid_area": null,
            "grid_template_columns": null,
            "flex": null,
            "_model_name": "LayoutModel",
            "justify_items": null,
            "grid_row": null,
            "max_height": null,
            "align_content": null,
            "visibility": null,
            "align_self": null,
            "height": null,
            "min_height": null,
            "padding": null,
            "grid_auto_rows": null,
            "grid_gap": null,
            "max_width": null,
            "order": null,
            "_view_module_version": "1.2.0",
            "grid_template_areas": null,
            "object_position": null,
            "object_fit": null,
            "grid_auto_columns": null,
            "margin": null,
            "display": null,
            "left": null
          }
        },
        "72a71c6915114505a7a4779430774ded": {
          "model_module": "@jupyter-widgets/controls",
          "model_name": "DescriptionStyleModel",
          "state": {
            "_view_name": "StyleView",
            "_model_name": "DescriptionStyleModel",
            "description_width": "",
            "_view_module": "@jupyter-widgets/base",
            "_model_module_version": "1.5.0",
            "_view_count": null,
            "_view_module_version": "1.2.0",
            "_model_module": "@jupyter-widgets/controls"
          }
        },
        "37189f4f15cf4aa3bf00a25d0122654e": {
          "model_module": "@jupyter-widgets/base",
          "model_name": "LayoutModel",
          "state": {
            "_view_name": "LayoutView",
            "grid_template_rows": null,
            "right": null,
            "justify_content": null,
            "_view_module": "@jupyter-widgets/base",
            "overflow": null,
            "_model_module_version": "1.2.0",
            "_view_count": null,
            "flex_flow": null,
            "width": null,
            "min_width": null,
            "border": null,
            "align_items": null,
            "bottom": null,
            "_model_module": "@jupyter-widgets/base",
            "top": null,
            "grid_column": null,
            "overflow_y": null,
            "overflow_x": null,
            "grid_auto_flow": null,
            "grid_area": null,
            "grid_template_columns": null,
            "flex": null,
            "_model_name": "LayoutModel",
            "justify_items": null,
            "grid_row": null,
            "max_height": null,
            "align_content": null,
            "visibility": null,
            "align_self": null,
            "height": null,
            "min_height": null,
            "padding": null,
            "grid_auto_rows": null,
            "grid_gap": null,
            "max_width": null,
            "order": null,
            "_view_module_version": "1.2.0",
            "grid_template_areas": null,
            "object_position": null,
            "object_fit": null,
            "grid_auto_columns": null,
            "margin": null,
            "display": null,
            "left": null
          }
        }
      }
    }
  },
  "cells": [
    {
      "cell_type": "markdown",
      "metadata": {
        "id": "f9vuJG_Hczx-",
        "colab_type": "text"
      },
      "source": [
        "# Star Trek Script Generator\n",
        "\n",
        "## Just want to make scripts?\n",
        "\n",
        "* Run everything in the setup section\n",
        "* Then go straight to generate scripts section, skipping the rest\n",
        "\n",
        "## Want to train up the model?\n",
        "\n",
        "* Run the whole notebook\n",
        "\n",
        "## Thanks and Attributions\n",
        "\n",
        "Based on [script_generation.ipynb](https://github.com/cdpierse/script_buddy_v2/blob/master/script_buddy/script_generation.ipynb)"
      ]
    },
    {
      "cell_type": "markdown",
      "metadata": {
        "id": "A47WcBanHl8Z",
        "colab_type": "text"
      },
      "source": [
        "## Setup\n"
      ]
    },
    {
      "cell_type": "code",
      "metadata": {
        "id": "8vOxtevVdC8A",
        "colab_type": "code",
        "outputId": "04812472-e37d-4273-c2ce-f76ca0b7e9b6",
        "colab": {
          "base_uri": "https://localhost:8080/",
          "height": 104
        }
      },
      "source": [
        "!pip -q install transformers"
      ],
      "execution_count": 0,
      "outputs": [
        {
          "output_type": "stream",
          "text": [
            "\u001b[?25l\r\u001b[K     |▌                               | 10kB 31.4MB/s eta 0:00:01\r\u001b[K     |█                               | 20kB 36.0MB/s eta 0:00:01\r\u001b[K     |█▌                              | 30kB 41.1MB/s eta 0:00:01\r\u001b[K     |██                              | 40kB 36.7MB/s eta 0:00:01\r\u001b[K     |██▍                             | 51kB 19.2MB/s eta 0:00:01\r\u001b[K     |███                             | 61kB 16.2MB/s eta 0:00:01\r\u001b[K     |███▍                            | 71kB 14.9MB/s eta 0:00:01\r\u001b[K     |███▉                            | 81kB 14.5MB/s eta 0:00:01\r\u001b[K     |████▍                           | 92kB 14.0MB/s eta 0:00:01\r\u001b[K     |████▉                           | 102kB 14.5MB/s eta 0:00:01\r\u001b[K     |█████▍                          | 112kB 14.5MB/s eta 0:00:01\r\u001b[K     |█████▉                          | 122kB 14.5MB/s eta 0:00:01\r\u001b[K     |██████▎                         | 133kB 14.5MB/s eta 0:00:01\r\u001b[K     |██████▉                         | 143kB 14.5MB/s eta 0:00:01\r\u001b[K     |███████▎                        | 153kB 14.5MB/s eta 0:00:01\r\u001b[K     |███████▊                        | 163kB 14.5MB/s eta 0:00:01\r\u001b[K     |████████▎                       | 174kB 14.5MB/s eta 0:00:01\r\u001b[K     |████████▊                       | 184kB 14.5MB/s eta 0:00:01\r\u001b[K     |█████████▎                      | 194kB 14.5MB/s eta 0:00:01\r\u001b[K     |█████████▊                      | 204kB 14.5MB/s eta 0:00:01\r\u001b[K     |██████████▏                     | 215kB 14.5MB/s eta 0:00:01\r\u001b[K     |██████████▊                     | 225kB 14.5MB/s eta 0:00:01\r\u001b[K     |███████████▏                    | 235kB 14.5MB/s eta 0:00:01\r\u001b[K     |███████████▋                    | 245kB 14.5MB/s eta 0:00:01\r\u001b[K     |████████████▏                   | 256kB 14.5MB/s eta 0:00:01\r\u001b[K     |████████████▋                   | 266kB 14.5MB/s eta 0:00:01\r\u001b[K     |█████████████                   | 276kB 14.5MB/s eta 0:00:01\r\u001b[K     |█████████████▋                  | 286kB 14.5MB/s eta 0:00:01\r\u001b[K     |██████████████                  | 296kB 14.5MB/s eta 0:00:01\r\u001b[K     |██████████████▋                 | 307kB 14.5MB/s eta 0:00:01\r\u001b[K     |███████████████                 | 317kB 14.5MB/s eta 0:00:01\r\u001b[K     |███████████████▌                | 327kB 14.5MB/s eta 0:00:01\r\u001b[K     |████████████████                | 337kB 14.5MB/s eta 0:00:01\r\u001b[K     |████████████████▌               | 348kB 14.5MB/s eta 0:00:01\r\u001b[K     |█████████████████               | 358kB 14.5MB/s eta 0:00:01\r\u001b[K     |█████████████████▌              | 368kB 14.5MB/s eta 0:00:01\r\u001b[K     |██████████████████              | 378kB 14.5MB/s eta 0:00:01\r\u001b[K     |██████████████████▌             | 389kB 14.5MB/s eta 0:00:01\r\u001b[K     |███████████████████             | 399kB 14.5MB/s eta 0:00:01\r\u001b[K     |███████████████████▍            | 409kB 14.5MB/s eta 0:00:01\r\u001b[K     |████████████████████            | 419kB 14.5MB/s eta 0:00:01\r\u001b[K     |████████████████████▍           | 430kB 14.5MB/s eta 0:00:01\r\u001b[K     |████████████████████▉           | 440kB 14.5MB/s eta 0:00:01\r\u001b[K     |█████████████████████▍          | 450kB 14.5MB/s eta 0:00:01\r\u001b[K     |█████████████████████▉          | 460kB 14.5MB/s eta 0:00:01\r\u001b[K     |██████████████████████▍         | 471kB 14.5MB/s eta 0:00:01\r\u001b[K     |██████████████████████▉         | 481kB 14.5MB/s eta 0:00:01\r\u001b[K     |███████████████████████▎        | 491kB 14.5MB/s eta 0:00:01\r\u001b[K     |███████████████████████▉        | 501kB 14.5MB/s eta 0:00:01\r\u001b[K     |████████████████████████▎       | 512kB 14.5MB/s eta 0:00:01\r\u001b[K     |████████████████████████▊       | 522kB 14.5MB/s eta 0:00:01\r\u001b[K     |█████████████████████████▎      | 532kB 14.5MB/s eta 0:00:01\r\u001b[K     |█████████████████████████▊      | 542kB 14.5MB/s eta 0:00:01\r\u001b[K     |██████████████████████████▏     | 552kB 14.5MB/s eta 0:00:01\r\u001b[K     |██████████████████████████▊     | 563kB 14.5MB/s eta 0:00:01\r\u001b[K     |███████████████████████████▏    | 573kB 14.5MB/s eta 0:00:01\r\u001b[K     |███████████████████████████▊    | 583kB 14.5MB/s eta 0:00:01\r\u001b[K     |████████████████████████████▏   | 593kB 14.5MB/s eta 0:00:01\r\u001b[K     |████████████████████████████▋   | 604kB 14.5MB/s eta 0:00:01\r\u001b[K     |█████████████████████████████▏  | 614kB 14.5MB/s eta 0:00:01\r\u001b[K     |█████████████████████████████▋  | 624kB 14.5MB/s eta 0:00:01\r\u001b[K     |██████████████████████████████  | 634kB 14.5MB/s eta 0:00:01\r\u001b[K     |██████████████████████████████▋ | 645kB 14.5MB/s eta 0:00:01\r\u001b[K     |███████████████████████████████ | 655kB 14.5MB/s eta 0:00:01\r\u001b[K     |███████████████████████████████▋| 665kB 14.5MB/s eta 0:00:01\r\u001b[K     |████████████████████████████████| 675kB 14.5MB/s \n",
            "\u001b[K     |████████████████████████████████| 1.1MB 55.3MB/s \n",
            "\u001b[K     |████████████████████████████████| 890kB 59.3MB/s \n",
            "\u001b[K     |████████████████████████████████| 3.8MB 57.9MB/s \n",
            "\u001b[?25h  Building wheel for sacremoses (setup.py) ... \u001b[?25l\u001b[?25hdone\n"
          ],
          "name": "stdout"
        }
      ]
    },
    {
      "cell_type": "code",
      "metadata": {
        "trusted": true,
        "id": "BjyDa3gCczyA",
        "colab_type": "code",
        "colab": {}
      },
      "source": [
        "import torch\n",
        "from torch.utils.data import Dataset\n",
        "from torch.utils.data import Dataset, DataLoader\n",
        "from transformers import GPT2Tokenizer, GPT2LMHeadModel, AdamW, get_linear_schedule_with_warmup, AutoTokenizer, AutoModelWithLMHead\n",
        "import numpy as np\n",
        "import os\n",
        "import random\n",
        "from datetime import datetime\n",
        "from IPython.display import clear_output\n",
        "from time import sleep\n",
        "from zipfile import ZipFile\n",
        "# import subprocess\n",
        "# from utils import *"
      ],
      "execution_count": 0,
      "outputs": []
    },
    {
      "cell_type": "code",
      "metadata": {
        "id": "UXfDYNmcMc-o",
        "colab_type": "code",
        "outputId": "32a143cd-1f30-458b-8766-c269cd3aa051",
        "colab": {
          "base_uri": "https://localhost:8080/",
          "height": 121
        }
      },
      "source": [
        "# Clone repo with dataset\n",
        "\n",
        "if not os.path.exists('trekbot'):\n",
        "  os.mkdir('trekbot')\n",
        "  !git clone https://github.com/alexcg1/trekbot_script-writer.git trekbot\n",
        "else:\n",
        "  %cd trekbot\n",
        "  !git pull\n",
        "  %cd .."
      ],
      "execution_count": 0,
      "outputs": [
        {
          "output_type": "stream",
          "text": [
            "Cloning into 'trekbot'...\n",
            "remote: Enumerating objects: 63, done.\u001b[K\n",
            "remote: Counting objects: 100% (63/63), done.\u001b[K\n",
            "remote: Compressing objects: 100% (48/48), done.\u001b[K\n",
            "remote: Total 63 (delta 22), reused 53 (delta 12), pack-reused 0\u001b[K\n",
            "Unpacking objects: 100% (63/63), done.\n"
          ],
          "name": "stdout"
        }
      ]
    },
    {
      "cell_type": "code",
      "metadata": {
        "id": "CuH73DmNOyMt",
        "colab_type": "code",
        "colab": {}
      },
      "source": [
        "# Copy out includes\n",
        "!cp trekbot/*.py ."
      ],
      "execution_count": 0,
      "outputs": []
    },
    {
      "cell_type": "code",
      "metadata": {
        "trusted": true,
        "id": "SzKGLIiZczy3",
        "colab_type": "code",
        "colab": {}
      },
      "source": [
        "device = 'cpu'\n",
        "if torch.cuda.is_available():\n",
        "    device = 'cuda'"
      ],
      "execution_count": 0,
      "outputs": []
    },
    {
      "cell_type": "markdown",
      "metadata": {
        "id": "WmvMUjb_czzA",
        "colab_type": "text"
      },
      "source": [
        "## Load Model"
      ]
    },
    {
      "cell_type": "code",
      "metadata": {
        "trusted": true,
        "id": "345qSjvOczy7",
        "colab_type": "code",
        "outputId": "c3b356af-722f-42c9-b69e-670ebe4b3ad6",
        "colab": {
          "base_uri": "https://localhost:8080/",
          "height": 249,
          "referenced_widgets": [
            "b3817fe94c98426eae0edbe501e40ebb",
            "242cdf38d5bd492db95d8da1fbe5ed47",
            "44b8a3403c9b4632a0ec41782c174107",
            "419593f179d340febf1b67b7f8c7b65f",
            "43a15fb8775f4e3e83f914cd06564594",
            "32e5238ac8e24a46b4638022ad272e09",
            "0094784ac17849d582f72ce7f2778a6d",
            "9647e3991940466f92469365c82dd949",
            "e6542f3f9a3d49159760a1c0b002b5c5",
            "cbcbab3baab849febf047e5604a4f3d2",
            "883985bd4d17442c90f34ed479293cf9",
            "55c3368de56047d3bbd457ab385eb08e",
            "f2d7b63435464a3ca469f6d3ef40fa08",
            "1d6b5e6710204d73ac2f382a078f47ba",
            "6b81efd457794e82bfcc718894a66548",
            "d7046a846ff445f1a939f34f4bdc546e",
            "2a47d134e7fd4c649d8c83eae9ea0e8b",
            "35cbccf42fa8465eb25a28cad8446820",
            "9d6a3ea47d4c4018b4082c6daffe3fb3",
            "07830945f57d4bf886db58651473af79",
            "ccccf198f07749bdae5609e593dd6806",
            "84b89304f7734d3b90d1b873688e5914",
            "28cdf28f020541a88b27e79843d43e35",
            "c5426ff9084246fa86501bc3b72d04d4",
            "53b3095c63594c0fb93323d0a35b07af",
            "32eb3949ab8b42bf9e673cd173521d8b",
            "8859e7bcee6845b3817b9f5f2c3d11b5",
            "9686a138e5a345f2b02d8d73f37d6129",
            "c993abaf88674fdd917c23738152f378",
            "8a573185392d49059bb18d4143cf51b2",
            "72a71c6915114505a7a4779430774ded",
            "37189f4f15cf4aa3bf00a25d0122654e"
          ]
        }
      },
      "source": [
        "MODEL_NAME = 'alexcg1/trekbot'\n",
        "\n",
        "tokenizer = AutoTokenizer.from_pretrained(MODEL_NAME)\n",
        "print(f\"Loaded Tokenizer from {MODEL_NAME}\")\n",
        "model = AutoModelWithLMHead.from_pretrained(MODEL_NAME)\n",
        "print(f\"Loaded Model from {MODEL_NAME}\")"
      ],
      "execution_count": 0,
      "outputs": [
        {
          "output_type": "display_data",
          "data": {
            "application/vnd.jupyter.widget-view+json": {
              "model_id": "b3817fe94c98426eae0edbe501e40ebb",
              "version_minor": 0,
              "version_major": 2
            },
            "text/plain": [
              "HBox(children=(FloatProgress(value=0.0, description='Downloading', max=655.0, style=ProgressStyle(description_…"
            ]
          },
          "metadata": {
            "tags": []
          }
        },
        {
          "output_type": "stream",
          "text": [
            "\n"
          ],
          "name": "stdout"
        },
        {
          "output_type": "display_data",
          "data": {
            "application/vnd.jupyter.widget-view+json": {
              "model_id": "e6542f3f9a3d49159760a1c0b002b5c5",
              "version_minor": 0,
              "version_major": 2
            },
            "text/plain": [
              "HBox(children=(FloatProgress(value=0.0, description='Downloading', max=898669.0, style=ProgressStyle(descripti…"
            ]
          },
          "metadata": {
            "tags": []
          }
        },
        {
          "output_type": "stream",
          "text": [
            "\n"
          ],
          "name": "stdout"
        },
        {
          "output_type": "display_data",
          "data": {
            "application/vnd.jupyter.widget-view+json": {
              "model_id": "2a47d134e7fd4c649d8c83eae9ea0e8b",
              "version_minor": 0,
              "version_major": 2
            },
            "text/plain": [
              "HBox(children=(FloatProgress(value=0.0, description='Downloading', max=456318.0, style=ProgressStyle(descripti…"
            ]
          },
          "metadata": {
            "tags": []
          }
        },
        {
          "output_type": "stream",
          "text": [
            "\n",
            "Loaded Tokenizer from alexcg1/trekbot\n"
          ],
          "name": "stdout"
        },
        {
          "output_type": "display_data",
          "data": {
            "application/vnd.jupyter.widget-view+json": {
              "model_id": "53b3095c63594c0fb93323d0a35b07af",
              "version_minor": 0,
              "version_major": 2
            },
            "text/plain": [
              "HBox(children=(FloatProgress(value=0.0, description='Downloading', max=1444531445.0, style=ProgressStyle(descr…"
            ]
          },
          "metadata": {
            "tags": []
          }
        },
        {
          "output_type": "stream",
          "text": [
            "\n",
            "Loaded Model from alexcg1/trekbot\n"
          ],
          "name": "stdout"
        }
      ]
    },
    {
      "cell_type": "code",
      "metadata": {
        "trusted": true,
        "id": "AcWekcawczzB",
        "colab_type": "code",
        "colab": {}
      },
      "source": [
        "model = model.to(device)"
      ],
      "execution_count": 0,
      "outputs": []
    },
    {
      "cell_type": "markdown",
      "metadata": {
        "id": "9nWLmyAuLAaE",
        "colab_type": "text"
      },
      "source": [
        "## Load Data"
      ]
    },
    {
      "cell_type": "markdown",
      "metadata": {
        "id": "D6FvS32Qczyb",
        "colab_type": "text"
      },
      "source": [
        "### Basic Settings"
      ]
    },
    {
      "cell_type": "code",
      "metadata": {
        "trusted": true,
        "id": "86kZcvDZczyb",
        "colab_type": "code",
        "colab": {}
      },
      "source": [
        "# How many episodes to train on? If 0, assume all episodes\n",
        "EP_COUNT = 0\n",
        "\n",
        "# Sample length for samples generated from model\n",
        "SAMPLE_LENGTH = 1000\n",
        "SAMPLE_COUNT = 12"
      ],
      "execution_count": 0,
      "outputs": []
    },
    {
      "cell_type": "markdown",
      "metadata": {
        "id": "4QXoUM-JczzE",
        "colab_type": "text"
      },
      "source": [
        "### Load Dataset"
      ]
    },
    {
      "cell_type": "code",
      "metadata": {
        "id": "oaGw-Qg_McaN",
        "colab_type": "code",
        "outputId": "8ed7eb0a-624b-4613-806f-54a572c8d943",
        "colab": {
          "base_uri": "https://localhost:8080/",
          "height": 69
        }
      },
      "source": [
        "from language_modelling import ScriptData\n",
        "data_file = os.path.join(\"trekbot\", \"data\", \"film_text.txt\")\n",
        "dataset = ScriptData(file_path=data_file, tokenizer=tokenizer)"
      ],
      "execution_count": 0,
      "outputs": [
        {
          "output_type": "stream",
          "text": [
            "Creating features from file film_text.txt at .\n",
            "Succesfully read text from file\n",
            "Saving features into cached file ./gpt2_512_film_text.txt\n"
          ],
          "name": "stdout"
        }
      ]
    },
    {
      "cell_type": "code",
      "metadata": {
        "trusted": true,
        "id": "7N4GrKteczzL",
        "colab_type": "code",
        "colab": {}
      },
      "source": [
        "if EP_COUNT != 0:\n",
        "    print(f\"Dataset size before: {len(dataset)}\")\n",
        "    dataset = dataset[:EP_COUNT]\n",
        "    print(f\"Dataset size after: {len(dataset)}\")"
      ],
      "execution_count": 0,
      "outputs": []
    },
    {
      "cell_type": "code",
      "metadata": {
        "id": "c9iVJ3eQMkTS",
        "colab_type": "code",
        "colab": {}
      },
      "source": [
        "from torch.utils.data import Dataset, DataLoader\n",
        "script_loader = DataLoader(dataset, batch_size=1, shuffle=True)"
      ],
      "execution_count": 0,
      "outputs": []
    },
    {
      "cell_type": "code",
      "metadata": {
        "id": "W6eCEsPBPOxt",
        "colab_type": "code",
        "outputId": "df8670a6-eb81-45d2-b64c-5d5816d6ceec",
        "colab": {
          "base_uri": "https://localhost:8080/",
          "height": 34
        }
      },
      "source": [
        "len(script_loader)"
      ],
      "execution_count": 0,
      "outputs": [
        {
          "output_type": "execute_result",
          "data": {
            "text/plain": [
              "6526"
            ]
          },
          "metadata": {
            "tags": []
          },
          "execution_count": 12
        }
      ]
    },
    {
      "cell_type": "markdown",
      "metadata": {
        "id": "vcUhGMTVHvD5",
        "colab_type": "text"
      },
      "source": [
        "## Train Model\n",
        "\n",
        "If you just want scripts, skip straight to the \"Generating Samples\" section"
      ]
    },
    {
      "cell_type": "markdown",
      "metadata": {
        "id": "qc9Cfpals4lG",
        "colab_type": "text"
      },
      "source": [
        "### Params and Hyperparams"
      ]
    },
    {
      "cell_type": "markdown",
      "metadata": {
        "id": "-3-_DxQHJPwE",
        "colab_type": "text"
      },
      "source": [
        "* Batch size: How many things to process at once. Too high may crash notebook from memory usage\n",
        "* Epochs: How many times to go over *all* the data\n",
        "* Learning Rate: Lower = deeper learning, Higher = faster\n",
        "* Warmup steps: Don't know how to explain this one"
      ]
    },
    {
      "cell_type": "code",
      "metadata": {
        "trusted": true,
        "id": "-Tw18Y-eczzV",
        "colab_type": "code",
        "colab": {}
      },
      "source": [
        "BATCH_SIZE = 3\n",
        "EPOCHS = 1\n",
        "LEARNING_RATE = 0.000000001\n",
        "WARMUP_STEPS = 10000"
      ],
      "execution_count": 0,
      "outputs": []
    },
    {
      "cell_type": "code",
      "metadata": {
        "trusted": true,
        "id": "aVqGbT0qczyr",
        "colab_type": "code",
        "colab": {}
      },
      "source": [
        "FILENAME_SUFFIX = str(datetime.now())[:10]\n",
        "\n",
        "# Filename for output scripts\n",
        "SCRIPT_DIR = f\"training-scripts/\"\n",
        "SCRIPT_FILENAME = f\"scripts-{FILENAME_SUFFIX}.txt\"\n",
        "\n",
        "# Directory to save model\n",
        "OUTPUT_MODEL_DIR = f\"models/trekbot\"\n",
        "OUTPUT_MODEL_FILENAME = f\"model.txt\"\n",
        "\n",
        "# This variable already used in code later\n",
        "output_dir = OUTPUT_MODEL_DIR"
      ],
      "execution_count": 0,
      "outputs": []
    },
    {
      "cell_type": "code",
      "metadata": {
        "trusted": true,
        "id": "R9QB4OJrczyx",
        "colab_type": "code",
        "outputId": "000c1207-63d9-49ba-afc4-a9c729209066",
        "colab": {
          "base_uri": "https://localhost:8080/",
          "height": 69
        }
      },
      "source": [
        "from utils import Setup\n",
        "dirs = ['models', SCRIPT_DIR, 'samples']\n",
        "\n",
        "Setup.dir_setup(dirs) # Setup directory structure"
      ],
      "execution_count": 0,
      "outputs": [
        {
          "output_type": "stream",
          "text": [
            "Created models\n",
            "Created training-scripts/\n",
            "Created samples\n"
          ],
          "name": "stdout"
        }
      ]
    },
    {
      "cell_type": "code",
      "metadata": {
        "trusted": true,
        "id": "BKrMZlpEczzX",
        "colab_type": "code",
        "colab": {}
      },
      "source": [
        "model = model.to(device)\n",
        "model.train() # Start training mode\n",
        "optimizer = AdamW(model.parameters(), lr=LEARNING_RATE)\n",
        "scheduler = get_linear_schedule_with_warmup(optimizer, num_warmup_steps=WARMUP_STEPS, num_training_steps=-1)\n",
        "script_count = 0\n",
        "sum_loss = 0.0"
      ],
      "execution_count": 0,
      "outputs": []
    },
    {
      "cell_type": "code",
      "metadata": {
        "trusted": true,
        "id": "po4DnCngczzd",
        "colab_type": "code",
        "colab": {}
      },
      "source": [
        "total = len(dataset) # number of items in dataset"
      ],
      "execution_count": 0,
      "outputs": []
    },
    {
      "cell_type": "code",
      "metadata": {
        "trusted": true,
        "id": "6wmhpsUxczzg",
        "colab_type": "code",
        "outputId": "4eaf3992-d393-4ab6-9a6f-e11a958f2592",
        "colab": {
          "base_uri": "https://localhost:8080/",
          "height": 34
        }
      },
      "source": [
        "SAMPLE_INTERVAL = int(total/SAMPLE_COUNT)\n",
        "# total_sample_count = floor(total/SAMPLE_INTERVAL)\n",
        "print(f\"Total samples: {SAMPLE_COUNT}\")"
      ],
      "execution_count": 0,
      "outputs": [
        {
          "output_type": "stream",
          "text": [
            "Total samples: 12\n"
          ],
          "name": "stdout"
        }
      ]
    },
    {
      "cell_type": "code",
      "metadata": {
        "trusted": true,
        "id": "GDlHhuatczzl",
        "colab_type": "code",
        "outputId": "d9a48dcd-e419-4ab4-b8bd-7e7c700113fb",
        "colab": {
          "base_uri": "https://localhost:8080/",
          "height": 34
        }
      },
      "source": [
        "start_time = datetime.now().strftime(\"%H:%M:%S\")\n",
        "print(f\"Start: {start_time}\")"
      ],
      "execution_count": 0,
      "outputs": [
        {
          "output_type": "stream",
          "text": [
            "Start: 23:23:38\n"
          ],
          "name": "stdout"
        }
      ]
    },
    {
      "cell_type": "code",
      "metadata": {
        "trusted": true,
        "id": "1ZtgToE7czzo",
        "colab_type": "code",
        "outputId": "a12bc2d7-e93c-43fd-98ec-bf21d950c01d",
        "colab": {
          "base_uri": "https://localhost:8080/",
          "height": 34
        }
      },
      "source": [
        "from utils import Diag\n",
        "# Setup diagnostics\n",
        "losses = []\n",
        "loss_log = \"loss_rate.csv\"\n",
        "\n",
        "Diag.setup(loss_log)"
      ],
      "execution_count": 0,
      "outputs": [
        {
          "output_type": "stream",
          "text": [
            "Creating new log at loss_rate.csv\n"
          ],
          "name": "stdout"
        }
      ]
    },
    {
      "cell_type": "code",
      "metadata": {
        "id": "RuK0BVtOFdcq",
        "colab_type": "code",
        "colab": {}
      },
      "source": [
        "# Setup logging stuff\n",
        "\n",
        "from statistics import mean\n",
        "batch_count = 0\n",
        "epoch_losses = []\n",
        "mean_losses = []"
      ],
      "execution_count": 0,
      "outputs": []
    },
    {
      "cell_type": "code",
      "metadata": {
        "trusted": true,
        "id": "y_dcQ4bFczzz",
        "colab_type": "code",
        "outputId": "87a28c75-83b4-42ca-f17d-ef720dac3de5",
        "colab": {
          "base_uri": "https://localhost:8080/",
          "height": 35
        }
      },
      "source": [
        "for epoch in range(EPOCHS):\n",
        "    epoch_loss = 0.0\n",
        "    sum_losses = []\n",
        "    for idx,script in enumerate(script_loader):\n",
        "                \n",
        "        outputs = model(script.to(device), labels=script.to(device))\n",
        "        \n",
        "        loss, logits = outputs[:2]\n",
        "        timestamp = datetime.now().strftime(\"%H:%M:%S\")\n",
        "        \n",
        "        loss.backward()\n",
        "\n",
        "        sum_loss = sum_loss + loss.detach().data\n",
        "                       \n",
        "        script_count = script_count + 1\n",
        "        if script_count == BATCH_SIZE:\n",
        "            script_count = 0    \n",
        "            batch_count += 1\n",
        "            optimizer.step()\n",
        "            scheduler.step() \n",
        "            optimizer.zero_grad()\n",
        "            model.zero_grad()\n",
        "        \n",
        "        if batch_count == SAMPLE_INTERVAL:\n",
        "            append_string = f\"\\t| Appending script to {SCRIPT_FILENAME}...\"\n",
        "        else:\n",
        "            append_string = ''\n",
        "        \n",
        "        # Update output display\n",
        "        clear_output(wait=True) # Clear and update display, otherwise endless scroll\n",
        "\n",
        "        # Get data to display\n",
        "        percent = round((idx/total)*100, 2)\n",
        "        rounded_loss = round(float(loss.detach().data), 2)\n",
        "        rounded_sum_loss = round(float(sum_loss), 2)\n",
        "        losses.append(rounded_loss)\n",
        "        epoch_loss += float(rounded_loss)\n",
        "        \n",
        "        # Deal with means\n",
        "        cutoff = 100 # How many past losses do we sample for the average?\n",
        "        neg_cutoff = cutoff*-1\n",
        "        if len(mean_losses) < cutoff: # If we don't even have that many samples yet, just go with what we have\n",
        "          mean_loss = round(mean(losses), 4)\n",
        "        else:\n",
        "          mean_loss = round(mean(losses[neg_cutoff:-1]), 4)\n",
        "        mean_losses.append(mean_loss)\n",
        "\n",
        "        # Display it\n",
        "        print(f\"{timestamp}\\tEpoch {epoch+1}/{EPOCHS}\\t Processing {idx}/{total} \\t {percent}% \\tMean Loss: {mean_loss} \\tBatch:{batch_count} {append_string}\")\n",
        "\n",
        "        # Write to log file\n",
        "        data = [timestamp, LEARNING_RATE, rounded_loss]\n",
        "        Diag.write_row(data, loss_log)\n",
        "        if batch_count == SAMPLE_INTERVAL:\n",
        "            model.eval()\n",
        "            # losses.append(sum_loss)\n",
        "            sample_outputs = model.generate(\n",
        "                                    bos_token_id=random.randint(1,30000),\n",
        "                                    do_sample=True,   \n",
        "                                    top_k=50, \n",
        "                                    max_length = SAMPLE_LENGTH,\n",
        "                                    top_p=0.95, \n",
        "                                    num_return_sequences=1\n",
        "                                )\n",
        "\n",
        "            for i, sample_output in enumerate(sample_outputs):\n",
        "                SCRIPT_PATH = os.path.join(SCRIPT_DIR, SCRIPT_FILENAME)\n",
        "                with open(SCRIPT_PATH, \"a\") as file:\n",
        "                    file.write(\"\\n\\n\")\n",
        "                    file.write(\"*\" * 80)\n",
        "                    file.write(\"\\n\\n\")\n",
        "                    file.write(tokenizer.decode(sample_output, skip_special_tokens=True))\n",
        "                    print(f\"Script appended to {SCRIPT_FILENAME}\")\n",
        "            \n",
        "            batch_count = 0\n",
        "\n",
        "            sum_losses.append(sum_loss)\n",
        "            # sum_loss = 0.0\n",
        "            model.train()\n",
        "    epoch_losses.append(epoch_loss)"
      ],
      "execution_count": 0,
      "outputs": [
        {
          "output_type": "stream",
          "text": [
            "01:05:10\tEpoch 1/1\t Processing 6525/13051 \t 50.0% \tMean Loss: 2.1901 \tBatch:1 \n"
          ],
          "name": "stdout"
        }
      ]
    },
    {
      "cell_type": "code",
      "metadata": {
        "trusted": true,
        "id": "L6bj1_Tqczz3",
        "colab_type": "code",
        "outputId": "702bab3e-7fd4-4aa4-cb8c-d4b58ec5c519",
        "colab": {
          "base_uri": "https://localhost:8080/",
          "height": 54
        }
      },
      "source": [
        "end_time = datetime.now().strftime(\"%H:%M:%S\")\n",
        "print(f\"Start: {start_time}\")\n",
        "print(f\"End: {end_time}\")"
      ],
      "execution_count": 0,
      "outputs": [
        {
          "output_type": "stream",
          "text": [
            "Start: 23:23:38\n",
            "End: 01:05:10\n"
          ],
          "name": "stdout"
        }
      ]
    },
    {
      "cell_type": "code",
      "metadata": {
        "id": "IPMo391qX7hN",
        "colab_type": "code",
        "outputId": "fc20b676-b4bd-4ed2-bfd1-06de9432710d",
        "colab": {
          "base_uri": "https://localhost:8080/",
          "height": 35
        }
      },
      "source": [
        "# print(epoch_losses)\n",
        "for idx, loss in enumerate(epoch_losses):\n",
        "  # WHy /2? I think bc of dataset_batch_size (not training_batch_size) or something.\n",
        "  # Hell if I know. Training stops successfully at what looks like 50% so whatever I'm printing as progress indicator is wrong\n",
        "  print(f\"Epoch {idx+1}:\\t{round(epoch_loss/(total/2), 6)}\") "
      ],
      "execution_count": 0,
      "outputs": [
        {
          "output_type": "stream",
          "text": [
            "Epoch 1:\t2.191585\n"
          ],
          "name": "stdout"
        }
      ]
    },
    {
      "cell_type": "markdown",
      "metadata": {
        "id": "k0BUzduodBtj",
        "colab_type": "text"
      },
      "source": [
        "### Analyze Training\n",
        "\n",
        "You can skip this if you want. It just gives you an idea if the training is improving the loss rate or not. If things are going well, you should see a downward sloping graph"
      ]
    },
    {
      "cell_type": "code",
      "metadata": {
        "id": "NytsXL9tRVmY",
        "colab_type": "code",
        "outputId": "9f36e0cc-68eb-4118-c453-2b15ed5f6019",
        "colab": {
          "base_uri": "https://localhost:8080/",
          "height": 265
        }
      },
      "source": [
        "sample_every = 250\n",
        "sampled_losses = []\n",
        "\n",
        "counter = 0\n",
        "for loss in losses:\n",
        "  counter += 1\n",
        "  if counter == sample_every:\n",
        "    counter = 0\n",
        "    sampled_losses.append(loss)\n",
        "\n",
        "from matplotlib import pyplot as plt\n",
        "\n",
        "y = np.array(sampled_losses)\n",
        "x = []\n",
        "i = 1\n",
        "for point in y:\n",
        "  x.append(i)\n",
        "  i += 1\n",
        "\n",
        "x = np.array(x)\n",
        "\n",
        "plt.plot(x, y) # show raw data\n",
        "plt.show()"
      ],
      "execution_count": 0,
      "outputs": [
        {
          "output_type": "display_data",
          "data": {
            "image/png": "[encoded data removed]",
            "text/plain": [
              "<Figure size 432x288 with 1 Axes>"
            ]
          },
          "metadata": {
            "tags": [],
            "needs_background": "light"
          }
        }
      ]
    },
    {
      "cell_type": "markdown",
      "metadata": {
        "id": "GyMv1jyMczz6",
        "colab_type": "text"
      },
      "source": [
        "### Save Trained Model"
      ]
    },
    {
      "cell_type": "code",
      "metadata": {
        "trusted": true,
        "id": "XhIOzp13czz7",
        "colab_type": "code",
        "outputId": "5dada96f-1d49-437c-a20e-c73259a2765b",
        "colab": {
          "base_uri": "https://localhost:8080/",
          "height": 72
        }
      },
      "source": [
        "os.mkdir(OUTPUT_MODEL_DIR)\n",
        "\n",
        "from transformers import WEIGHTS_NAME, CONFIG_NAME\n",
        "output_model_file = os.path.join(OUTPUT_MODEL_DIR, WEIGHTS_NAME)\n",
        "output_config_file = os.path.join(OUTPUT_MODEL_DIR, CONFIG_NAME)\n",
        "\n",
        "torch.save(model.state_dict(), output_model_file)\n",
        "print(f\"Saved {output_model_file}\")\n",
        "model.config.to_json_file(output_config_file)\n",
        "print(f\"Saved {output_config_file}\")\n",
        "tokenizer.save_vocabulary(OUTPUT_MODEL_DIR)\n",
        "print(f\"Saved vocab.json to {OUTPUT_MODEL_DIR}\")"
      ],
      "execution_count": 0,
      "outputs": [
        {
          "output_type": "stream",
          "text": [
            "Saved models/trekbot/pytorch_model.bin\n",
            "Saved models/trekbot/config.json\n",
            "Saved vocab.json to models/trekbot\n"
          ],
          "name": "stdout"
        }
      ]
    },
    {
      "cell_type": "markdown",
      "metadata": {
        "id": "V3VGzAL2xrjf",
        "colab_type": "text"
      },
      "source": [
        "## Download Trained Model\n",
        "\n",
        "Download the model you've just trained"
      ]
    },
    {
      "cell_type": "code",
      "metadata": {
        "trusted": true,
        "colab_type": "code",
        "id": "hp62mdiQ6A3k",
        "outputId": "abe9bb3f-618b-42e4-98ad-e7b66e5377ef",
        "colab": {
          "base_uri": "https://localhost:8080/",
          "height": 90
        }
      },
      "source": [
        "# Zip model\n",
        "os.chdir(OUTPUT_MODEL_DIR)\n",
        "files_to_add = ['merges.txt', 'config.json', 'vocab.json']\n",
        "with ZipFile('model.zip', 'w') as zipObj:\n",
        "  for filename in os.listdir():\n",
        "    if filename in files_to_add:\n",
        "      print(f\"Adding {filename}\")\n",
        "      zipObj.write(filename)\n",
        "\n",
        "print(\"model.zip created\")"
      ],
      "execution_count": 0,
      "outputs": [
        {
          "output_type": "stream",
          "text": [
            "Adding merges.txt\n",
            "Adding config.json\n",
            "Adding vocab.json\n",
            "model.zip created\n"
          ],
          "name": "stdout"
        }
      ]
    },
    {
      "cell_type": "code",
      "metadata": {
        "id": "If2QuHbf7Wfi",
        "colab_type": "code",
        "outputId": "820ce2c1-ff24-44f6-cf37-137b25e44501",
        "colab": {
          "base_uri": "https://localhost:8080/",
          "height": 35
        }
      },
      "source": [
        "# Get us back to working dir\n",
        "%cd /content"
      ],
      "execution_count": 0,
      "outputs": [
        {
          "output_type": "stream",
          "text": [
            "/content\n"
          ],
          "name": "stdout"
        }
      ]
    },
    {
      "cell_type": "code",
      "metadata": {
        "id": "Bx6vPcyIxxLa",
        "colab_type": "code",
        "outputId": "598db017-430a-4f0b-c85a-2e8b9e558cc4",
        "colab": {
          "base_uri": "https://localhost:8080/",
          "height": 362
        }
      },
      "source": [
        "from google.colab import files\n",
        "zip_path = os.path.join(OUTPUT_MODEL_DIR, 'model.zip')\n",
        "files.download(zip_path)"
      ],
      "execution_count": 0,
      "outputs": [
        {
          "output_type": "error",
          "ename": "KeyboardInterrupt",
          "evalue": "ignored",
          "traceback": [
            "\u001b[0;31m---------------------------------------------------------------------------\u001b[0m",
            "\u001b[0;31mKeyboardInterrupt\u001b[0m                         Traceback (most recent call last)",
            "\u001b[0;32m<ipython-input-29-8b7226151047>\u001b[0m in \u001b[0;36m<module>\u001b[0;34m()\u001b[0m\n\u001b[1;32m      1\u001b[0m \u001b[0;32mfrom\u001b[0m \u001b[0mgoogle\u001b[0m\u001b[0;34m.\u001b[0m\u001b[0mcolab\u001b[0m \u001b[0;32mimport\u001b[0m \u001b[0mfiles\u001b[0m\u001b[0;34m\u001b[0m\u001b[0;34m\u001b[0m\u001b[0m\n\u001b[1;32m      2\u001b[0m \u001b[0mzip_path\u001b[0m \u001b[0;34m=\u001b[0m \u001b[0mos\u001b[0m\u001b[0;34m.\u001b[0m\u001b[0mpath\u001b[0m\u001b[0;34m.\u001b[0m\u001b[0mjoin\u001b[0m\u001b[0;34m(\u001b[0m\u001b[0mOUTPUT_MODEL_DIR\u001b[0m\u001b[0;34m,\u001b[0m \u001b[0;34m'model.zip'\u001b[0m\u001b[0;34m)\u001b[0m\u001b[0;34m\u001b[0m\u001b[0;34m\u001b[0m\u001b[0m\n\u001b[0;32m----> 3\u001b[0;31m \u001b[0mfiles\u001b[0m\u001b[0;34m.\u001b[0m\u001b[0mdownload\u001b[0m\u001b[0;34m(\u001b[0m\u001b[0mzip_path\u001b[0m\u001b[0;34m)\u001b[0m\u001b[0;34m\u001b[0m\u001b[0;34m\u001b[0m\u001b[0m\n\u001b[0m",
            "\u001b[0;32m/usr/local/lib/python3.6/dist-packages/google/colab/files.py\u001b[0m in \u001b[0;36mdownload\u001b[0;34m(filename)\u001b[0m\n\u001b[1;32m    176\u001b[0m       \u001b[0;34m'port'\u001b[0m\u001b[0;34m:\u001b[0m \u001b[0mport\u001b[0m\u001b[0;34m,\u001b[0m\u001b[0;34m\u001b[0m\u001b[0;34m\u001b[0m\u001b[0m\n\u001b[1;32m    177\u001b[0m       \u001b[0;34m'path'\u001b[0m\u001b[0;34m:\u001b[0m \u001b[0m_os\u001b[0m\u001b[0;34m.\u001b[0m\u001b[0mpath\u001b[0m\u001b[0;34m.\u001b[0m\u001b[0mabspath\u001b[0m\u001b[0;34m(\u001b[0m\u001b[0mfilename\u001b[0m\u001b[0;34m)\u001b[0m\u001b[0;34m,\u001b[0m\u001b[0;34m\u001b[0m\u001b[0;34m\u001b[0m\u001b[0m\n\u001b[0;32m--> 178\u001b[0;31m       \u001b[0;34m'name'\u001b[0m\u001b[0;34m:\u001b[0m \u001b[0m_os\u001b[0m\u001b[0;34m.\u001b[0m\u001b[0mpath\u001b[0m\u001b[0;34m.\u001b[0m\u001b[0mbasename\u001b[0m\u001b[0;34m(\u001b[0m\u001b[0mfilename\u001b[0m\u001b[0;34m)\u001b[0m\u001b[0;34m,\u001b[0m\u001b[0;34m\u001b[0m\u001b[0;34m\u001b[0m\u001b[0m\n\u001b[0m\u001b[1;32m    179\u001b[0m   })\n",
            "\u001b[0;32m/usr/local/lib/python3.6/dist-packages/google/colab/output/_js.py\u001b[0m in \u001b[0;36meval_js\u001b[0;34m(script, ignore_result)\u001b[0m\n\u001b[1;32m     37\u001b[0m   \u001b[0;32mif\u001b[0m \u001b[0mignore_result\u001b[0m\u001b[0;34m:\u001b[0m\u001b[0;34m\u001b[0m\u001b[0;34m\u001b[0m\u001b[0m\n\u001b[1;32m     38\u001b[0m     \u001b[0;32mreturn\u001b[0m\u001b[0;34m\u001b[0m\u001b[0;34m\u001b[0m\u001b[0m\n\u001b[0;32m---> 39\u001b[0;31m   \u001b[0;32mreturn\u001b[0m \u001b[0m_message\u001b[0m\u001b[0;34m.\u001b[0m\u001b[0mread_reply_from_input\u001b[0m\u001b[0;34m(\u001b[0m\u001b[0mrequest_id\u001b[0m\u001b[0;34m)\u001b[0m\u001b[0;34m\u001b[0m\u001b[0;34m\u001b[0m\u001b[0m\n\u001b[0m\u001b[1;32m     40\u001b[0m \u001b[0;34m\u001b[0m\u001b[0m\n\u001b[1;32m     41\u001b[0m \u001b[0;34m\u001b[0m\u001b[0m\n",
            "\u001b[0;32m/usr/local/lib/python3.6/dist-packages/google/colab/_message.py\u001b[0m in \u001b[0;36mread_reply_from_input\u001b[0;34m(message_id, timeout_sec)\u001b[0m\n\u001b[1;32m     99\u001b[0m     \u001b[0mreply\u001b[0m \u001b[0;34m=\u001b[0m \u001b[0m_read_next_input_message\u001b[0m\u001b[0;34m(\u001b[0m\u001b[0;34m)\u001b[0m\u001b[0;34m\u001b[0m\u001b[0;34m\u001b[0m\u001b[0m\n\u001b[1;32m    100\u001b[0m     \u001b[0;32mif\u001b[0m \u001b[0mreply\u001b[0m \u001b[0;34m==\u001b[0m \u001b[0m_NOT_READY\u001b[0m \u001b[0;32mor\u001b[0m \u001b[0;32mnot\u001b[0m \u001b[0misinstance\u001b[0m\u001b[0;34m(\u001b[0m\u001b[0mreply\u001b[0m\u001b[0;34m,\u001b[0m \u001b[0mdict\u001b[0m\u001b[0;34m)\u001b[0m\u001b[0;34m:\u001b[0m\u001b[0;34m\u001b[0m\u001b[0;34m\u001b[0m\u001b[0m\n\u001b[0;32m--> 101\u001b[0;31m       \u001b[0mtime\u001b[0m\u001b[0;34m.\u001b[0m\u001b[0msleep\u001b[0m\u001b[0;34m(\u001b[0m\u001b[0;36m0.025\u001b[0m\u001b[0;34m)\u001b[0m\u001b[0;34m\u001b[0m\u001b[0;34m\u001b[0m\u001b[0m\n\u001b[0m\u001b[1;32m    102\u001b[0m       \u001b[0;32mcontinue\u001b[0m\u001b[0;34m\u001b[0m\u001b[0;34m\u001b[0m\u001b[0m\n\u001b[1;32m    103\u001b[0m     if (reply.get('type') == 'colab_reply' and\n",
            "\u001b[0;31mKeyboardInterrupt\u001b[0m: "
          ]
        }
      ]
    },
    {
      "cell_type": "code",
      "metadata": {
        "id": "1k0_rgGA78EO",
        "colab_type": "code",
        "colab": {}
      },
      "source": [
        "# This will download the big ass file\n",
        "big_file_path = os.path.join(OUTPUT_MODEL_DIR, 'pytorch_model.bin')\n",
        "files.download(big_file_path)"
      ],
      "execution_count": 0,
      "outputs": []
    },
    {
      "cell_type": "markdown",
      "metadata": {
        "id": "aLFXnjiFIU5m",
        "colab_type": "text"
      },
      "source": [
        "## Generate Samples"
      ]
    },
    {
      "cell_type": "code",
      "metadata": {
        "trusted": true,
        "id": "A7UhI6P9czz-",
        "colab_type": "code",
        "colab": {}
      },
      "source": [
        "# Saved model will be used to generate samples\n",
        "if os.path.exists(\"model\"):\n",
        "  model = GPT2LMHeadModel.from_pretrained(output_dir)\n",
        "  tokenizer = GPT2Tokenizer.from_pretrained(output_dir)\n",
        "  print(f\"Loaded model and tokenizer from {output_dir}\")\n",
        "else:\n",
        "  print(\"Using downloaded model\")"
      ],
      "execution_count": 0,
      "outputs": []
    },
    {
      "cell_type": "markdown",
      "metadata": {
        "id": "E7hl60STzk2R",
        "colab_type": "text"
      },
      "source": [
        "#### Top_p\n",
        "\n",
        "* high temp - for asspulls.\n",
        "* less temp - less random shit.\n",
        "* top_p close to 0 = less creative AI\n",
        "* top_p close to 1 = more random AI\n",
        "\n",
        "But just go with 0.9 (default) as top_p (because is difficult to manage), and control randomness via temperature\n",
        "\n",
        "[Source](https://github.com/VBPXKSMI/Open-CYOAI-Project/wiki/A-quick-explanation-on-what-is-top_k,-temp-and-top_p)\n"
      ]
    },
    {
      "cell_type": "code",
      "metadata": {
        "id": "9hMVNyOko9eN",
        "colab_type": "code",
        "colab": {}
      },
      "source": [
        "input_ids = tokenizer.encode('         He kisses her softly and takes out his gun.         ', return_tensors='pt')"
      ],
      "execution_count": 0,
      "outputs": []
    },
    {
      "cell_type": "code",
      "metadata": {
        "id": "XBEOpdko00iT",
        "colab_type": "code",
        "colab": {}
      },
      "source": [
        "sample_scripts = []\n",
        "\n",
        "if not os.path.exists(\"samples\"):\n",
        "  os.mkdir(\"samples\")"
      ],
      "execution_count": 0,
      "outputs": []
    },
    {
      "cell_type": "code",
      "metadata": {
        "trusted": true,
        "id": "z140L3H8cz0C",
        "colab_type": "code",
        "colab": {}
      },
      "source": [
        "top_p = 0.9\n",
        "def generate_sample(length):\n",
        "  model.eval() # Turn on evaluation mode instead of training\n",
        "  model.train() # Because eval brings up repetitive shit\n",
        "  output = model.generate(\n",
        "      input_ids=input_ids,\n",
        "      num_beams=1,\n",
        "      bos_token_id=random.randint(1,30000),\n",
        "      do_sample=True,   \n",
        "      top_k=50, \n",
        "      max_length = length,\n",
        "      top_p=top_p, \n",
        "      num_return_sequences=1,\n",
        "      )\n",
        "\n",
        "  content = tokenizer.decode(output[0], skip_special_tokens=True)\n",
        "\n",
        "  return content"
      ],
      "execution_count": 0,
      "outputs": []
    },
    {
      "cell_type": "code",
      "metadata": {
        "id": "Gnr76Ii_z3Gy",
        "colab_type": "code",
        "colab": {}
      },
      "source": [
        "SAMPLE_COUNT = 1\n",
        "SAMPLE_LENGTH = 1200\n",
        "\n",
        "for i in range(SAMPLE_COUNT):\n",
        "  print(f\"Generating script {i+1} of {SAMPLE_COUNT}\")\n",
        "  sample_script = generate_sample(SAMPLE_LENGTH)\n",
        "  filename = f'script_{i+1:03}.txt'\n",
        "  file_path = f'samples/{filename}'\n",
        "  # with open(file_path, 'w') as file:\n",
        "    # file.write(sample_script)\n",
        "  print(f\"{filename} written\")\n",
        "  print(sample_script)\n",
        "  sample_scripts.append(sample_script)"
      ],
      "execution_count": 0,
      "outputs": []
    },
    {
      "cell_type": "code",
      "metadata": {
        "trusted": true,
        "id": "vIGFvREgcz0F",
        "colab_type": "code",
        "outputId": "f9471ae2-be65-4501-a1b5-9eacd74c60f2",
        "colab": {
          "base_uri": "https://localhost:8080/",
          "height": 69
        }
      },
      "source": [
        "# Save sample scripts\n",
        "for i, script in enumerate(sample_scripts):\n",
        "    filename = f'script_{i+1:03}.txt'\n",
        "    file_path = f'samples/{filename}'\n",
        "    with open(file_path, 'w') as file:\n",
        "        file.write(script)\n",
        "    print(f\"{filename} written\")"
      ],
      "execution_count": 0,
      "outputs": [
        {
          "output_type": "stream",
          "text": [
            "script_001.txt written\n",
            "script_002.txt written\n",
            "script_003.txt written\n"
          ],
          "name": "stdout"
        }
      ]
    },
    {
      "cell_type": "code",
      "metadata": {
        "trusted": true,
        "id": "xTQOxxrQcz0I",
        "colab_type": "code",
        "outputId": "1b8998b6-03d9-4533-b774-24af95d32f07",
        "colab": {
          "base_uri": "https://localhost:8080/",
          "height": 34
        }
      },
      "source": [
        "# Zip samples\n",
        "os.chdir('samples')\n",
        "with ZipFile('samples.zip', 'w') as zipObj:\n",
        "    for filename in os.listdir():\n",
        "        if not filename.endswith(\".zip\"):\n",
        "            zipObj.write(filename)\n",
        "\n",
        "print(\"samples.zip created\")"
      ],
      "execution_count": 0,
      "outputs": [
        {
          "output_type": "stream",
          "text": [
            "samples.zip created\n"
          ],
          "name": "stdout"
        }
      ]
    },
    {
      "cell_type": "markdown",
      "metadata": {
        "id": "sNfcamYU0p5d",
        "colab_type": "text"
      },
      "source": [
        "## Download Samples"
      ]
    },
    {
      "cell_type": "code",
      "metadata": {
        "id": "t47JIQDb0oF1",
        "colab_type": "code",
        "colab": {}
      },
      "source": [
        "from google.colab import files\n",
        "files.download('/content/samples/samples.zip')"
      ],
      "execution_count": 0,
      "outputs": []
    },
    {
      "cell_type": "code",
      "metadata": {
        "id": "QuM_ClaZW7Ym",
        "colab_type": "code",
        "colab": {}
      },
      "source": [
        ""
      ],
      "execution_count": 0,
      "outputs": []
    }
  ]
}