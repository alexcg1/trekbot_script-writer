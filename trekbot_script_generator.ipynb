{
  "nbformat": 4,
  "nbformat_minor": 0,
  "metadata": {
    "kernelspec": {
      "language": "python",
      "display_name": "Python 3",
      "name": "python3"
    },
    "language_info": {
      "pygments_lexer": "ipython3",
      "nbconvert_exporter": "python",
      "version": "3.6.4",
      "file_extension": ".py",
      "codemirror_mode": {
        "name": "ipython",
        "version": 3
      },
      "name": "python",
      "mimetype": "text/x-python"
    },
    "colab": {
      "name": "trekbot-script-generator.ipynb",
      "provenance": [],
      "collapsed_sections": [],
      "toc_visible": true
    },
    "accelerator": "GPU",
    "widgets": {
      "application/vnd.jupyter.widget-state+json": {
        "0df456cdd5034b308c9760cb412d30e2": {
          "model_module": "@jupyter-widgets/controls",
          "model_name": "HBoxModel",
          "state": {
            "_view_name": "HBoxView",
            "_dom_classes": [],
            "_model_name": "HBoxModel",
            "_view_module": "@jupyter-widgets/controls",
            "_model_module_version": "1.5.0",
            "_view_count": null,
            "_view_module_version": "1.5.0",
            "box_style": "",
            "layout": "IPY_MODEL_04d345bd87b846c8938de6539f3eb6ed",
            "_model_module": "@jupyter-widgets/controls",
            "children": [
              "IPY_MODEL_8dd16e57862e4589bddd222f50171e0f",
              "IPY_MODEL_9e6a7e73b76d49bba93321ec2899699c"
            ]
          }
        },
        "04d345bd87b846c8938de6539f3eb6ed": {
          "model_module": "@jupyter-widgets/base",
          "model_name": "LayoutModel",
          "state": {
            "_view_name": "LayoutView",
            "grid_template_rows": null,
            "right": null,
            "justify_content": null,
            "_view_module": "@jupyter-widgets/base",
            "overflow": null,
            "_model_module_version": "1.2.0",
            "_view_count": null,
            "flex_flow": null,
            "width": null,
            "min_width": null,
            "border": null,
            "align_items": null,
            "bottom": null,
            "_model_module": "@jupyter-widgets/base",
            "top": null,
            "grid_column": null,
            "overflow_y": null,
            "overflow_x": null,
            "grid_auto_flow": null,
            "grid_area": null,
            "grid_template_columns": null,
            "flex": null,
            "_model_name": "LayoutModel",
            "justify_items": null,
            "grid_row": null,
            "max_height": null,
            "align_content": null,
            "visibility": null,
            "align_self": null,
            "height": null,
            "min_height": null,
            "padding": null,
            "grid_auto_rows": null,
            "grid_gap": null,
            "max_width": null,
            "order": null,
            "_view_module_version": "1.2.0",
            "grid_template_areas": null,
            "object_position": null,
            "object_fit": null,
            "grid_auto_columns": null,
            "margin": null,
            "display": null,
            "left": null
          }
        },
        "8dd16e57862e4589bddd222f50171e0f": {
          "model_module": "@jupyter-widgets/controls",
          "model_name": "FloatProgressModel",
          "state": {
            "_view_name": "ProgressView",
            "style": "IPY_MODEL_f847df6db6924e769c0215bedeee6ce0",
            "_dom_classes": [],
            "description": "Downloading: 100%",
            "_model_name": "FloatProgressModel",
            "bar_style": "success",
            "max": 655,
            "_view_module": "@jupyter-widgets/controls",
            "_model_module_version": "1.5.0",
            "value": 655,
            "_view_count": null,
            "_view_module_version": "1.5.0",
            "orientation": "horizontal",
            "min": 0,
            "description_tooltip": null,
            "_model_module": "@jupyter-widgets/controls",
            "layout": "IPY_MODEL_f73cca801b4c419b92368512aa0eb8b7"
          }
        },
        "9e6a7e73b76d49bba93321ec2899699c": {
          "model_module": "@jupyter-widgets/controls",
          "model_name": "HTMLModel",
          "state": {
            "_view_name": "HTMLView",
            "style": "IPY_MODEL_67293fb63e4343f2a1dce7d4176aaade",
            "_dom_classes": [],
            "description": "",
            "_model_name": "HTMLModel",
            "placeholder": "​",
            "_view_module": "@jupyter-widgets/controls",
            "_model_module_version": "1.5.0",
            "value": " 655/655 [1:08:26&lt;00:00, 6.27s/B]",
            "_view_count": null,
            "_view_module_version": "1.5.0",
            "description_tooltip": null,
            "_model_module": "@jupyter-widgets/controls",
            "layout": "IPY_MODEL_6d6b962612154ad99bdc51a69156794b"
          }
        },
        "f847df6db6924e769c0215bedeee6ce0": {
          "model_module": "@jupyter-widgets/controls",
          "model_name": "ProgressStyleModel",
          "state": {
            "_view_name": "StyleView",
            "_model_name": "ProgressStyleModel",
            "description_width": "initial",
            "_view_module": "@jupyter-widgets/base",
            "_model_module_version": "1.5.0",
            "_view_count": null,
            "_view_module_version": "1.2.0",
            "bar_color": null,
            "_model_module": "@jupyter-widgets/controls"
          }
        },
        "f73cca801b4c419b92368512aa0eb8b7": {
          "model_module": "@jupyter-widgets/base",
          "model_name": "LayoutModel",
          "state": {
            "_view_name": "LayoutView",
            "grid_template_rows": null,
            "right": null,
            "justify_content": null,
            "_view_module": "@jupyter-widgets/base",
            "overflow": null,
            "_model_module_version": "1.2.0",
            "_view_count": null,
            "flex_flow": null,
            "width": null,
            "min_width": null,
            "border": null,
            "align_items": null,
            "bottom": null,
            "_model_module": "@jupyter-widgets/base",
            "top": null,
            "grid_column": null,
            "overflow_y": null,
            "overflow_x": null,
            "grid_auto_flow": null,
            "grid_area": null,
            "grid_template_columns": null,
            "flex": null,
            "_model_name": "LayoutModel",
            "justify_items": null,
            "grid_row": null,
            "max_height": null,
            "align_content": null,
            "visibility": null,
            "align_self": null,
            "height": null,
            "min_height": null,
            "padding": null,
            "grid_auto_rows": null,
            "grid_gap": null,
            "max_width": null,
            "order": null,
            "_view_module_version": "1.2.0",
            "grid_template_areas": null,
            "object_position": null,
            "object_fit": null,
            "grid_auto_columns": null,
            "margin": null,
            "display": null,
            "left": null
          }
        },
        "67293fb63e4343f2a1dce7d4176aaade": {
          "model_module": "@jupyter-widgets/controls",
          "model_name": "DescriptionStyleModel",
          "state": {
            "_view_name": "StyleView",
            "_model_name": "DescriptionStyleModel",
            "description_width": "",
            "_view_module": "@jupyter-widgets/base",
            "_model_module_version": "1.5.0",
            "_view_count": null,
            "_view_module_version": "1.2.0",
            "_model_module": "@jupyter-widgets/controls"
          }
        },
        "6d6b962612154ad99bdc51a69156794b": {
          "model_module": "@jupyter-widgets/base",
          "model_name": "LayoutModel",
          "state": {
            "_view_name": "LayoutView",
            "grid_template_rows": null,
            "right": null,
            "justify_content": null,
            "_view_module": "@jupyter-widgets/base",
            "overflow": null,
            "_model_module_version": "1.2.0",
            "_view_count": null,
            "flex_flow": null,
            "width": null,
            "min_width": null,
            "border": null,
            "align_items": null,
            "bottom": null,
            "_model_module": "@jupyter-widgets/base",
            "top": null,
            "grid_column": null,
            "overflow_y": null,
            "overflow_x": null,
            "grid_auto_flow": null,
            "grid_area": null,
            "grid_template_columns": null,
            "flex": null,
            "_model_name": "LayoutModel",
            "justify_items": null,
            "grid_row": null,
            "max_height": null,
            "align_content": null,
            "visibility": null,
            "align_self": null,
            "height": null,
            "min_height": null,
            "padding": null,
            "grid_auto_rows": null,
            "grid_gap": null,
            "max_width": null,
            "order": null,
            "_view_module_version": "1.2.0",
            "grid_template_areas": null,
            "object_position": null,
            "object_fit": null,
            "grid_auto_columns": null,
            "margin": null,
            "display": null,
            "left": null
          }
        },
        "0a931a0b30be4d61b564cfa6e613bb0d": {
          "model_module": "@jupyter-widgets/controls",
          "model_name": "HBoxModel",
          "state": {
            "_view_name": "HBoxView",
            "_dom_classes": [],
            "_model_name": "HBoxModel",
            "_view_module": "@jupyter-widgets/controls",
            "_model_module_version": "1.5.0",
            "_view_count": null,
            "_view_module_version": "1.5.0",
            "box_style": "",
            "layout": "IPY_MODEL_493333bbe1f1482492ef17693b12e7c5",
            "_model_module": "@jupyter-widgets/controls",
            "children": [
              "IPY_MODEL_f821e1fba1e9416fb0dbefcce1d4e2c7",
              "IPY_MODEL_d2c5c73a55774c47b0102011ae7ac7a4"
            ]
          }
        },
        "493333bbe1f1482492ef17693b12e7c5": {
          "model_module": "@jupyter-widgets/base",
          "model_name": "LayoutModel",
          "state": {
            "_view_name": "LayoutView",
            "grid_template_rows": null,
            "right": null,
            "justify_content": null,
            "_view_module": "@jupyter-widgets/base",
            "overflow": null,
            "_model_module_version": "1.2.0",
            "_view_count": null,
            "flex_flow": null,
            "width": null,
            "min_width": null,
            "border": null,
            "align_items": null,
            "bottom": null,
            "_model_module": "@jupyter-widgets/base",
            "top": null,
            "grid_column": null,
            "overflow_y": null,
            "overflow_x": null,
            "grid_auto_flow": null,
            "grid_area": null,
            "grid_template_columns": null,
            "flex": null,
            "_model_name": "LayoutModel",
            "justify_items": null,
            "grid_row": null,
            "max_height": null,
            "align_content": null,
            "visibility": null,
            "align_self": null,
            "height": null,
            "min_height": null,
            "padding": null,
            "grid_auto_rows": null,
            "grid_gap": null,
            "max_width": null,
            "order": null,
            "_view_module_version": "1.2.0",
            "grid_template_areas": null,
            "object_position": null,
            "object_fit": null,
            "grid_auto_columns": null,
            "margin": null,
            "display": null,
            "left": null
          }
        },
        "f821e1fba1e9416fb0dbefcce1d4e2c7": {
          "model_module": "@jupyter-widgets/controls",
          "model_name": "FloatProgressModel",
          "state": {
            "_view_name": "ProgressView",
            "style": "IPY_MODEL_67a5af5c77b145fbb39080b9da9ed464",
            "_dom_classes": [],
            "description": "Downloading: 100%",
            "_model_name": "FloatProgressModel",
            "bar_style": "success",
            "max": 898669,
            "_view_module": "@jupyter-widgets/controls",
            "_model_module_version": "1.5.0",
            "value": 898669,
            "_view_count": null,
            "_view_module_version": "1.5.0",
            "orientation": "horizontal",
            "min": 0,
            "description_tooltip": null,
            "_model_module": "@jupyter-widgets/controls",
            "layout": "IPY_MODEL_6bac0042896a42e08f34f39ebcabc6eb"
          }
        },
        "d2c5c73a55774c47b0102011ae7ac7a4": {
          "model_module": "@jupyter-widgets/controls",
          "model_name": "HTMLModel",
          "state": {
            "_view_name": "HTMLView",
            "style": "IPY_MODEL_b12e202160464f319e24197b70abfcef",
            "_dom_classes": [],
            "description": "",
            "_model_name": "HTMLModel",
            "placeholder": "​",
            "_view_module": "@jupyter-widgets/controls",
            "_model_module_version": "1.5.0",
            "value": " 899k/899k [00:03&lt;00:00, 288kB/s]",
            "_view_count": null,
            "_view_module_version": "1.5.0",
            "description_tooltip": null,
            "_model_module": "@jupyter-widgets/controls",
            "layout": "IPY_MODEL_ef0e7a9c76c14372bdf9875c37a24703"
          }
        },
        "67a5af5c77b145fbb39080b9da9ed464": {
          "model_module": "@jupyter-widgets/controls",
          "model_name": "ProgressStyleModel",
          "state": {
            "_view_name": "StyleView",
            "_model_name": "ProgressStyleModel",
            "description_width": "initial",
            "_view_module": "@jupyter-widgets/base",
            "_model_module_version": "1.5.0",
            "_view_count": null,
            "_view_module_version": "1.2.0",
            "bar_color": null,
            "_model_module": "@jupyter-widgets/controls"
          }
        },
        "6bac0042896a42e08f34f39ebcabc6eb": {
          "model_module": "@jupyter-widgets/base",
          "model_name": "LayoutModel",
          "state": {
            "_view_name": "LayoutView",
            "grid_template_rows": null,
            "right": null,
            "justify_content": null,
            "_view_module": "@jupyter-widgets/base",
            "overflow": null,
            "_model_module_version": "1.2.0",
            "_view_count": null,
            "flex_flow": null,
            "width": null,
            "min_width": null,
            "border": null,
            "align_items": null,
            "bottom": null,
            "_model_module": "@jupyter-widgets/base",
            "top": null,
            "grid_column": null,
            "overflow_y": null,
            "overflow_x": null,
            "grid_auto_flow": null,
            "grid_area": null,
            "grid_template_columns": null,
            "flex": null,
            "_model_name": "LayoutModel",
            "justify_items": null,
            "grid_row": null,
            "max_height": null,
            "align_content": null,
            "visibility": null,
            "align_self": null,
            "height": null,
            "min_height": null,
            "padding": null,
            "grid_auto_rows": null,
            "grid_gap": null,
            "max_width": null,
            "order": null,
            "_view_module_version": "1.2.0",
            "grid_template_areas": null,
            "object_position": null,
            "object_fit": null,
            "grid_auto_columns": null,
            "margin": null,
            "display": null,
            "left": null
          }
        },
        "b12e202160464f319e24197b70abfcef": {
          "model_module": "@jupyter-widgets/controls",
          "model_name": "DescriptionStyleModel",
          "state": {
            "_view_name": "StyleView",
            "_model_name": "DescriptionStyleModel",
            "description_width": "",
            "_view_module": "@jupyter-widgets/base",
            "_model_module_version": "1.5.0",
            "_view_count": null,
            "_view_module_version": "1.2.0",
            "_model_module": "@jupyter-widgets/controls"
          }
        },
        "ef0e7a9c76c14372bdf9875c37a24703": {
          "model_module": "@jupyter-widgets/base",
          "model_name": "LayoutModel",
          "state": {
            "_view_name": "LayoutView",
            "grid_template_rows": null,
            "right": null,
            "justify_content": null,
            "_view_module": "@jupyter-widgets/base",
            "overflow": null,
            "_model_module_version": "1.2.0",
            "_view_count": null,
            "flex_flow": null,
            "width": null,
            "min_width": null,
            "border": null,
            "align_items": null,
            "bottom": null,
            "_model_module": "@jupyter-widgets/base",
            "top": null,
            "grid_column": null,
            "overflow_y": null,
            "overflow_x": null,
            "grid_auto_flow": null,
            "grid_area": null,
            "grid_template_columns": null,
            "flex": null,
            "_model_name": "LayoutModel",
            "justify_items": null,
            "grid_row": null,
            "max_height": null,
            "align_content": null,
            "visibility": null,
            "align_self": null,
            "height": null,
            "min_height": null,
            "padding": null,
            "grid_auto_rows": null,
            "grid_gap": null,
            "max_width": null,
            "order": null,
            "_view_module_version": "1.2.0",
            "grid_template_areas": null,
            "object_position": null,
            "object_fit": null,
            "grid_auto_columns": null,
            "margin": null,
            "display": null,
            "left": null
          }
        },
        "5ca23d69fcc443939665467e4f81c8d3": {
          "model_module": "@jupyter-widgets/controls",
          "model_name": "HBoxModel",
          "state": {
            "_view_name": "HBoxView",
            "_dom_classes": [],
            "_model_name": "HBoxModel",
            "_view_module": "@jupyter-widgets/controls",
            "_model_module_version": "1.5.0",
            "_view_count": null,
            "_view_module_version": "1.5.0",
            "box_style": "",
            "layout": "IPY_MODEL_3e5c899a01d6449da3a24b3dccbacaed",
            "_model_module": "@jupyter-widgets/controls",
            "children": [
              "IPY_MODEL_f028ccab26fd43d08dbc1b914b5f7c36",
              "IPY_MODEL_1f7d6af3455645bda39aa357c4e88860"
            ]
          }
        },
        "3e5c899a01d6449da3a24b3dccbacaed": {
          "model_module": "@jupyter-widgets/base",
          "model_name": "LayoutModel",
          "state": {
            "_view_name": "LayoutView",
            "grid_template_rows": null,
            "right": null,
            "justify_content": null,
            "_view_module": "@jupyter-widgets/base",
            "overflow": null,
            "_model_module_version": "1.2.0",
            "_view_count": null,
            "flex_flow": null,
            "width": null,
            "min_width": null,
            "border": null,
            "align_items": null,
            "bottom": null,
            "_model_module": "@jupyter-widgets/base",
            "top": null,
            "grid_column": null,
            "overflow_y": null,
            "overflow_x": null,
            "grid_auto_flow": null,
            "grid_area": null,
            "grid_template_columns": null,
            "flex": null,
            "_model_name": "LayoutModel",
            "justify_items": null,
            "grid_row": null,
            "max_height": null,
            "align_content": null,
            "visibility": null,
            "align_self": null,
            "height": null,
            "min_height": null,
            "padding": null,
            "grid_auto_rows": null,
            "grid_gap": null,
            "max_width": null,
            "order": null,
            "_view_module_version": "1.2.0",
            "grid_template_areas": null,
            "object_position": null,
            "object_fit": null,
            "grid_auto_columns": null,
            "margin": null,
            "display": null,
            "left": null
          }
        },
        "f028ccab26fd43d08dbc1b914b5f7c36": {
          "model_module": "@jupyter-widgets/controls",
          "model_name": "FloatProgressModel",
          "state": {
            "_view_name": "ProgressView",
            "style": "IPY_MODEL_b6b327fd61604c66bbaea6fd6acd2193",
            "_dom_classes": [],
            "description": "Downloading: 100%",
            "_model_name": "FloatProgressModel",
            "bar_style": "success",
            "max": 456318,
            "_view_module": "@jupyter-widgets/controls",
            "_model_module_version": "1.5.0",
            "value": 456318,
            "_view_count": null,
            "_view_module_version": "1.5.0",
            "orientation": "horizontal",
            "min": 0,
            "description_tooltip": null,
            "_model_module": "@jupyter-widgets/controls",
            "layout": "IPY_MODEL_354470a1befa4357b8b2bdfc5c2b25d6"
          }
        },
        "1f7d6af3455645bda39aa357c4e88860": {
          "model_module": "@jupyter-widgets/controls",
          "model_name": "HTMLModel",
          "state": {
            "_view_name": "HTMLView",
            "style": "IPY_MODEL_cb7d0a7a396d4113b2875779d134baa2",
            "_dom_classes": [],
            "description": "",
            "_model_name": "HTMLModel",
            "placeholder": "​",
            "_view_module": "@jupyter-widgets/controls",
            "_model_module_version": "1.5.0",
            "value": " 456k/456k [00:01&lt;00:00, 267kB/s]",
            "_view_count": null,
            "_view_module_version": "1.5.0",
            "description_tooltip": null,
            "_model_module": "@jupyter-widgets/controls",
            "layout": "IPY_MODEL_d0fd7519319d4571b448c99109a21e4e"
          }
        },
        "b6b327fd61604c66bbaea6fd6acd2193": {
          "model_module": "@jupyter-widgets/controls",
          "model_name": "ProgressStyleModel",
          "state": {
            "_view_name": "StyleView",
            "_model_name": "ProgressStyleModel",
            "description_width": "initial",
            "_view_module": "@jupyter-widgets/base",
            "_model_module_version": "1.5.0",
            "_view_count": null,
            "_view_module_version": "1.2.0",
            "bar_color": null,
            "_model_module": "@jupyter-widgets/controls"
          }
        },
        "354470a1befa4357b8b2bdfc5c2b25d6": {
          "model_module": "@jupyter-widgets/base",
          "model_name": "LayoutModel",
          "state": {
            "_view_name": "LayoutView",
            "grid_template_rows": null,
            "right": null,
            "justify_content": null,
            "_view_module": "@jupyter-widgets/base",
            "overflow": null,
            "_model_module_version": "1.2.0",
            "_view_count": null,
            "flex_flow": null,
            "width": null,
            "min_width": null,
            "border": null,
            "align_items": null,
            "bottom": null,
            "_model_module": "@jupyter-widgets/base",
            "top": null,
            "grid_column": null,
            "overflow_y": null,
            "overflow_x": null,
            "grid_auto_flow": null,
            "grid_area": null,
            "grid_template_columns": null,
            "flex": null,
            "_model_name": "LayoutModel",
            "justify_items": null,
            "grid_row": null,
            "max_height": null,
            "align_content": null,
            "visibility": null,
            "align_self": null,
            "height": null,
            "min_height": null,
            "padding": null,
            "grid_auto_rows": null,
            "grid_gap": null,
            "max_width": null,
            "order": null,
            "_view_module_version": "1.2.0",
            "grid_template_areas": null,
            "object_position": null,
            "object_fit": null,
            "grid_auto_columns": null,
            "margin": null,
            "display": null,
            "left": null
          }
        },
        "cb7d0a7a396d4113b2875779d134baa2": {
          "model_module": "@jupyter-widgets/controls",
          "model_name": "DescriptionStyleModel",
          "state": {
            "_view_name": "StyleView",
            "_model_name": "DescriptionStyleModel",
            "description_width": "",
            "_view_module": "@jupyter-widgets/base",
            "_model_module_version": "1.5.0",
            "_view_count": null,
            "_view_module_version": "1.2.0",
            "_model_module": "@jupyter-widgets/controls"
          }
        },
        "d0fd7519319d4571b448c99109a21e4e": {
          "model_module": "@jupyter-widgets/base",
          "model_name": "LayoutModel",
          "state": {
            "_view_name": "LayoutView",
            "grid_template_rows": null,
            "right": null,
            "justify_content": null,
            "_view_module": "@jupyter-widgets/base",
            "overflow": null,
            "_model_module_version": "1.2.0",
            "_view_count": null,
            "flex_flow": null,
            "width": null,
            "min_width": null,
            "border": null,
            "align_items": null,
            "bottom": null,
            "_model_module": "@jupyter-widgets/base",
            "top": null,
            "grid_column": null,
            "overflow_y": null,
            "overflow_x": null,
            "grid_auto_flow": null,
            "grid_area": null,
            "grid_template_columns": null,
            "flex": null,
            "_model_name": "LayoutModel",
            "justify_items": null,
            "grid_row": null,
            "max_height": null,
            "align_content": null,
            "visibility": null,
            "align_self": null,
            "height": null,
            "min_height": null,
            "padding": null,
            "grid_auto_rows": null,
            "grid_gap": null,
            "max_width": null,
            "order": null,
            "_view_module_version": "1.2.0",
            "grid_template_areas": null,
            "object_position": null,
            "object_fit": null,
            "grid_auto_columns": null,
            "margin": null,
            "display": null,
            "left": null
          }
        },
        "0f19d9e702494ca49a4bec3a05fd5a0d": {
          "model_module": "@jupyter-widgets/controls",
          "model_name": "HBoxModel",
          "state": {
            "_view_name": "HBoxView",
            "_dom_classes": [],
            "_model_name": "HBoxModel",
            "_view_module": "@jupyter-widgets/controls",
            "_model_module_version": "1.5.0",
            "_view_count": null,
            "_view_module_version": "1.5.0",
            "box_style": "",
            "layout": "IPY_MODEL_f06a008adaee48f8a036a48ff4047f29",
            "_model_module": "@jupyter-widgets/controls",
            "children": [
              "IPY_MODEL_4496a053c9b746df9111bd4784bf5e16",
              "IPY_MODEL_fdac52d72b344162a98fe08133158149"
            ]
          }
        },
        "f06a008adaee48f8a036a48ff4047f29": {
          "model_module": "@jupyter-widgets/base",
          "model_name": "LayoutModel",
          "state": {
            "_view_name": "LayoutView",
            "grid_template_rows": null,
            "right": null,
            "justify_content": null,
            "_view_module": "@jupyter-widgets/base",
            "overflow": null,
            "_model_module_version": "1.2.0",
            "_view_count": null,
            "flex_flow": null,
            "width": null,
            "min_width": null,
            "border": null,
            "align_items": null,
            "bottom": null,
            "_model_module": "@jupyter-widgets/base",
            "top": null,
            "grid_column": null,
            "overflow_y": null,
            "overflow_x": null,
            "grid_auto_flow": null,
            "grid_area": null,
            "grid_template_columns": null,
            "flex": null,
            "_model_name": "LayoutModel",
            "justify_items": null,
            "grid_row": null,
            "max_height": null,
            "align_content": null,
            "visibility": null,
            "align_self": null,
            "height": null,
            "min_height": null,
            "padding": null,
            "grid_auto_rows": null,
            "grid_gap": null,
            "max_width": null,
            "order": null,
            "_view_module_version": "1.2.0",
            "grid_template_areas": null,
            "object_position": null,
            "object_fit": null,
            "grid_auto_columns": null,
            "margin": null,
            "display": null,
            "left": null
          }
        },
        "4496a053c9b746df9111bd4784bf5e16": {
          "model_module": "@jupyter-widgets/controls",
          "model_name": "FloatProgressModel",
          "state": {
            "_view_name": "ProgressView",
            "style": "IPY_MODEL_2168e6afff79497a9b6d1682a3267213",
            "_dom_classes": [],
            "description": "Downloading: 100%",
            "_model_name": "FloatProgressModel",
            "bar_style": "success",
            "max": 1444531445,
            "_view_module": "@jupyter-widgets/controls",
            "_model_module_version": "1.5.0",
            "value": 1444531445,
            "_view_count": null,
            "_view_module_version": "1.5.0",
            "orientation": "horizontal",
            "min": 0,
            "description_tooltip": null,
            "_model_module": "@jupyter-widgets/controls",
            "layout": "IPY_MODEL_18baa494e21c460e84bf60f4577159b8"
          }
        },
        "fdac52d72b344162a98fe08133158149": {
          "model_module": "@jupyter-widgets/controls",
          "model_name": "HTMLModel",
          "state": {
            "_view_name": "HTMLView",
            "style": "IPY_MODEL_5092e6b51ecd45a9aa5058fb28f5a29b",
            "_dom_classes": [],
            "description": "",
            "_model_name": "HTMLModel",
            "placeholder": "​",
            "_view_module": "@jupyter-widgets/controls",
            "_model_module_version": "1.5.0",
            "value": " 1.44G/1.44G [01:05&lt;00:00, 22.0MB/s]",
            "_view_count": null,
            "_view_module_version": "1.5.0",
            "description_tooltip": null,
            "_model_module": "@jupyter-widgets/controls",
            "layout": "IPY_MODEL_8a374ac50a154a8e9a9aa0c0311ab748"
          }
        },
        "2168e6afff79497a9b6d1682a3267213": {
          "model_module": "@jupyter-widgets/controls",
          "model_name": "ProgressStyleModel",
          "state": {
            "_view_name": "StyleView",
            "_model_name": "ProgressStyleModel",
            "description_width": "initial",
            "_view_module": "@jupyter-widgets/base",
            "_model_module_version": "1.5.0",
            "_view_count": null,
            "_view_module_version": "1.2.0",
            "bar_color": null,
            "_model_module": "@jupyter-widgets/controls"
          }
        },
        "18baa494e21c460e84bf60f4577159b8": {
          "model_module": "@jupyter-widgets/base",
          "model_name": "LayoutModel",
          "state": {
            "_view_name": "LayoutView",
            "grid_template_rows": null,
            "right": null,
            "justify_content": null,
            "_view_module": "@jupyter-widgets/base",
            "overflow": null,
            "_model_module_version": "1.2.0",
            "_view_count": null,
            "flex_flow": null,
            "width": null,
            "min_width": null,
            "border": null,
            "align_items": null,
            "bottom": null,
            "_model_module": "@jupyter-widgets/base",
            "top": null,
            "grid_column": null,
            "overflow_y": null,
            "overflow_x": null,
            "grid_auto_flow": null,
            "grid_area": null,
            "grid_template_columns": null,
            "flex": null,
            "_model_name": "LayoutModel",
            "justify_items": null,
            "grid_row": null,
            "max_height": null,
            "align_content": null,
            "visibility": null,
            "align_self": null,
            "height": null,
            "min_height": null,
            "padding": null,
            "grid_auto_rows": null,
            "grid_gap": null,
            "max_width": null,
            "order": null,
            "_view_module_version": "1.2.0",
            "grid_template_areas": null,
            "object_position": null,
            "object_fit": null,
            "grid_auto_columns": null,
            "margin": null,
            "display": null,
            "left": null
          }
        },
        "5092e6b51ecd45a9aa5058fb28f5a29b": {
          "model_module": "@jupyter-widgets/controls",
          "model_name": "DescriptionStyleModel",
          "state": {
            "_view_name": "StyleView",
            "_model_name": "DescriptionStyleModel",
            "description_width": "",
            "_view_module": "@jupyter-widgets/base",
            "_model_module_version": "1.5.0",
            "_view_count": null,
            "_view_module_version": "1.2.0",
            "_model_module": "@jupyter-widgets/controls"
          }
        },
        "8a374ac50a154a8e9a9aa0c0311ab748": {
          "model_module": "@jupyter-widgets/base",
          "model_name": "LayoutModel",
          "state": {
            "_view_name": "LayoutView",
            "grid_template_rows": null,
            "right": null,
            "justify_content": null,
            "_view_module": "@jupyter-widgets/base",
            "overflow": null,
            "_model_module_version": "1.2.0",
            "_view_count": null,
            "flex_flow": null,
            "width": null,
            "min_width": null,
            "border": null,
            "align_items": null,
            "bottom": null,
            "_model_module": "@jupyter-widgets/base",
            "top": null,
            "grid_column": null,
            "overflow_y": null,
            "overflow_x": null,
            "grid_auto_flow": null,
            "grid_area": null,
            "grid_template_columns": null,
            "flex": null,
            "_model_name": "LayoutModel",
            "justify_items": null,
            "grid_row": null,
            "max_height": null,
            "align_content": null,
            "visibility": null,
            "align_self": null,
            "height": null,
            "min_height": null,
            "padding": null,
            "grid_auto_rows": null,
            "grid_gap": null,
            "max_width": null,
            "order": null,
            "_view_module_version": "1.2.0",
            "grid_template_areas": null,
            "object_position": null,
            "object_fit": null,
            "grid_auto_columns": null,
            "margin": null,
            "display": null,
            "left": null
          }
        },
        "9169b9d60bb243e59790dc509e4a5c39": {
          "model_module": "@jupyter-widgets/controls",
          "model_name": "IntProgressModel",
          "state": {
            "_view_name": "ProgressView",
            "style": "IPY_MODEL_ba5f2689d0604314b19b3e6e6239edc9",
            "_dom_classes": [],
            "description": "",
            "_model_name": "IntProgressModel",
            "bar_style": "",
            "max": 6000,
            "_view_module": "@jupyter-widgets/controls",
            "_model_module_version": "1.5.0",
            "value": 6000,
            "_view_count": null,
            "_view_module_version": "1.5.0",
            "orientation": "horizontal",
            "min": 0,
            "description_tooltip": null,
            "_model_module": "@jupyter-widgets/controls",
            "layout": "IPY_MODEL_4b4bbec2ff2c431bbc146cab699a999c"
          }
        },
        "ba5f2689d0604314b19b3e6e6239edc9": {
          "model_module": "@jupyter-widgets/controls",
          "model_name": "ProgressStyleModel",
          "state": {
            "_view_name": "StyleView",
            "_model_name": "ProgressStyleModel",
            "description_width": "",
            "_view_module": "@jupyter-widgets/base",
            "_model_module_version": "1.5.0",
            "_view_count": null,
            "_view_module_version": "1.2.0",
            "bar_color": null,
            "_model_module": "@jupyter-widgets/controls"
          }
        },
        "4b4bbec2ff2c431bbc146cab699a999c": {
          "model_module": "@jupyter-widgets/base",
          "model_name": "LayoutModel",
          "state": {
            "_view_name": "LayoutView",
            "grid_template_rows": null,
            "right": null,
            "justify_content": null,
            "_view_module": "@jupyter-widgets/base",
            "overflow": null,
            "_model_module_version": "1.2.0",
            "_view_count": null,
            "flex_flow": null,
            "width": null,
            "min_width": null,
            "border": null,
            "align_items": null,
            "bottom": null,
            "_model_module": "@jupyter-widgets/base",
            "top": null,
            "grid_column": null,
            "overflow_y": null,
            "overflow_x": null,
            "grid_auto_flow": null,
            "grid_area": null,
            "grid_template_columns": null,
            "flex": null,
            "_model_name": "LayoutModel",
            "justify_items": null,
            "grid_row": null,
            "max_height": null,
            "align_content": null,
            "visibility": null,
            "align_self": null,
            "height": null,
            "min_height": null,
            "padding": null,
            "grid_auto_rows": null,
            "grid_gap": null,
            "max_width": null,
            "order": null,
            "_view_module_version": "1.2.0",
            "grid_template_areas": null,
            "object_position": null,
            "object_fit": null,
            "grid_auto_columns": null,
            "margin": null,
            "display": null,
            "left": null
          }
        }
      }
    }
  },
  "cells": [
    {
      "cell_type": "markdown",
      "metadata": {
        "id": "f9vuJG_Hczx-",
        "colab_type": "text"
      },
      "source": [
        "# Star Trek Script Generator\n",
        "\n",
        "## Just want to make scripts?\n",
        "\n",
        "* Run everything in the setup section\n",
        "* Then go straight to generate scripts section, skipping the rest\n",
        "\n",
        "## Want to train up the model?\n",
        "\n",
        "* Run the whole notebook\n",
        "\n",
        "## Thanks and Attributions\n",
        "\n",
        "Based on [script_generation.ipynb](https://github.com/cdpierse/script_buddy_v2/blob/master/script_buddy/script_generation.ipynb)"
      ]
    },
    {
      "cell_type": "markdown",
      "metadata": {
        "id": "A47WcBanHl8Z",
        "colab_type": "text"
      },
      "source": [
        "## Setup\n"
      ]
    },
    {
      "cell_type": "code",
      "metadata": {
        "id": "8vOxtevVdC8A",
        "colab_type": "code",
        "outputId": "5e162d54-73e8-41e5-8b74-4d2120a5b578",
        "colab": {
          "base_uri": "https://localhost:8080/",
          "height": 104
        }
      },
      "source": [
        "!pip -q install transformers"
      ],
      "execution_count": 1,
      "outputs": [
        {
          "output_type": "stream",
          "text": [
            "\u001b[K     |████████████████████████████████| 675kB 8.1MB/s \n",
            "\u001b[K     |████████████████████████████████| 3.8MB 27.5MB/s \n",
            "\u001b[K     |████████████████████████████████| 890kB 54.1MB/s \n",
            "\u001b[K     |████████████████████████████████| 1.2MB 50.9MB/s \n",
            "\u001b[?25h  Building wheel for sacremoses (setup.py) ... \u001b[?25l\u001b[?25hdone\n"
          ],
          "name": "stdout"
        }
      ]
    },
    {
      "cell_type": "code",
      "metadata": {
        "trusted": true,
        "id": "BjyDa3gCczyA",
        "colab_type": "code",
        "colab": {}
      },
      "source": [
        "import torch\n",
        "from torch.utils.data import Dataset\n",
        "from torch.utils.data import Dataset, DataLoader\n",
        "from transformers import GPT2Tokenizer, GPT2LMHeadModel, AdamW, get_linear_schedule_with_warmup, AutoTokenizer, AutoModelWithLMHead\n",
        "import numpy as np\n",
        "import os\n",
        "import random\n",
        "from datetime import datetime\n",
        "from IPython.display import clear_output\n",
        "from time import sleep\n",
        "from zipfile import ZipFile\n",
        "import subprocess\n",
        "# from utils import *"
      ],
      "execution_count": 0,
      "outputs": []
    },
    {
      "cell_type": "code",
      "metadata": {
        "trusted": true,
        "id": "SzKGLIiZczy3",
        "colab_type": "code",
        "colab": {}
      },
      "source": [
        "device = 'cpu'\n",
        "if torch.cuda.is_available():\n",
        "    device = 'cuda'"
      ],
      "execution_count": 0,
      "outputs": []
    },
    {
      "cell_type": "markdown",
      "metadata": {
        "id": "WmvMUjb_czzA",
        "colab_type": "text"
      },
      "source": [
        "## Load Model"
      ]
    },
    {
      "cell_type": "code",
      "metadata": {
        "trusted": true,
        "id": "345qSjvOczy7",
        "colab_type": "code",
        "outputId": "7564d11c-5668-4a32-9ff1-b39711c39d2b",
        "colab": {
          "base_uri": "https://localhost:8080/",
          "height": 249,
          "referenced_widgets": [
            "0df456cdd5034b308c9760cb412d30e2",
            "04d345bd87b846c8938de6539f3eb6ed",
            "8dd16e57862e4589bddd222f50171e0f",
            "9e6a7e73b76d49bba93321ec2899699c",
            "f847df6db6924e769c0215bedeee6ce0",
            "f73cca801b4c419b92368512aa0eb8b7",
            "67293fb63e4343f2a1dce7d4176aaade",
            "6d6b962612154ad99bdc51a69156794b",
            "0a931a0b30be4d61b564cfa6e613bb0d",
            "493333bbe1f1482492ef17693b12e7c5",
            "f821e1fba1e9416fb0dbefcce1d4e2c7",
            "d2c5c73a55774c47b0102011ae7ac7a4",
            "67a5af5c77b145fbb39080b9da9ed464",
            "6bac0042896a42e08f34f39ebcabc6eb",
            "b12e202160464f319e24197b70abfcef",
            "ef0e7a9c76c14372bdf9875c37a24703",
            "5ca23d69fcc443939665467e4f81c8d3",
            "3e5c899a01d6449da3a24b3dccbacaed",
            "f028ccab26fd43d08dbc1b914b5f7c36",
            "1f7d6af3455645bda39aa357c4e88860",
            "b6b327fd61604c66bbaea6fd6acd2193",
            "354470a1befa4357b8b2bdfc5c2b25d6",
            "cb7d0a7a396d4113b2875779d134baa2",
            "d0fd7519319d4571b448c99109a21e4e",
            "0f19d9e702494ca49a4bec3a05fd5a0d",
            "f06a008adaee48f8a036a48ff4047f29",
            "4496a053c9b746df9111bd4784bf5e16",
            "fdac52d72b344162a98fe08133158149",
            "2168e6afff79497a9b6d1682a3267213",
            "18baa494e21c460e84bf60f4577159b8",
            "5092e6b51ecd45a9aa5058fb28f5a29b",
            "8a374ac50a154a8e9a9aa0c0311ab748"
          ]
        }
      },
      "source": [
        "MODEL_NAME = 'alexcg1/trekbot'\n",
        "\n",
        "tokenizer = AutoTokenizer.from_pretrained(MODEL_NAME)\n",
        "print(f\"Loaded Tokenizer from {MODEL_NAME}\")\n",
        "model = AutoModelWithLMHead.from_pretrained(MODEL_NAME)\n",
        "print(f\"Loaded Model from {MODEL_NAME}\")"
      ],
      "execution_count": 4,
      "outputs": [
        {
          "output_type": "display_data",
          "data": {
            "application/vnd.jupyter.widget-view+json": {
              "model_id": "0df456cdd5034b308c9760cb412d30e2",
              "version_minor": 0,
              "version_major": 2
            },
            "text/plain": [
              "HBox(children=(FloatProgress(value=0.0, description='Downloading', max=655.0, style=ProgressStyle(description_…"
            ]
          },
          "metadata": {
            "tags": []
          }
        },
        {
          "output_type": "stream",
          "text": [
            "\n"
          ],
          "name": "stdout"
        },
        {
          "output_type": "display_data",
          "data": {
            "application/vnd.jupyter.widget-view+json": {
              "model_id": "0a931a0b30be4d61b564cfa6e613bb0d",
              "version_minor": 0,
              "version_major": 2
            },
            "text/plain": [
              "HBox(children=(FloatProgress(value=0.0, description='Downloading', max=898669.0, style=ProgressStyle(descripti…"
            ]
          },
          "metadata": {
            "tags": []
          }
        },
        {
          "output_type": "stream",
          "text": [
            "\n"
          ],
          "name": "stdout"
        },
        {
          "output_type": "display_data",
          "data": {
            "application/vnd.jupyter.widget-view+json": {
              "model_id": "5ca23d69fcc443939665467e4f81c8d3",
              "version_minor": 0,
              "version_major": 2
            },
            "text/plain": [
              "HBox(children=(FloatProgress(value=0.0, description='Downloading', max=456318.0, style=ProgressStyle(descripti…"
            ]
          },
          "metadata": {
            "tags": []
          }
        },
        {
          "output_type": "stream",
          "text": [
            "\n",
            "Loaded Tokenizer from alexcg1/trekbot\n"
          ],
          "name": "stdout"
        },
        {
          "output_type": "display_data",
          "data": {
            "application/vnd.jupyter.widget-view+json": {
              "model_id": "0f19d9e702494ca49a4bec3a05fd5a0d",
              "version_minor": 0,
              "version_major": 2
            },
            "text/plain": [
              "HBox(children=(FloatProgress(value=0.0, description='Downloading', max=1444531445.0, style=ProgressStyle(descr…"
            ]
          },
          "metadata": {
            "tags": []
          }
        },
        {
          "output_type": "stream",
          "text": [
            "\n",
            "Loaded Model from alexcg1/trekbot\n"
          ],
          "name": "stdout"
        }
      ]
    },
    {
      "cell_type": "code",
      "metadata": {
        "trusted": true,
        "id": "AcWekcawczzB",
        "colab_type": "code",
        "colab": {}
      },
      "source": [
        "model = model.to(device)"
      ],
      "execution_count": 0,
      "outputs": []
    },
    {
      "cell_type": "markdown",
      "metadata": {
        "id": "vcUhGMTVHvD5",
        "colab_type": "text"
      },
      "source": [
        "## Train Model\n",
        "\n",
        "If you just want scripts, skip straight to the \"Generating Samples\" section"
      ]
    },
    {
      "cell_type": "markdown",
      "metadata": {
        "id": "D6FvS32Qczyb",
        "colab_type": "text"
      },
      "source": [
        "### Training Settings"
      ]
    },
    {
      "cell_type": "code",
      "metadata": {
        "trusted": true,
        "id": "86kZcvDZczyb",
        "colab_type": "code",
        "colab": {}
      },
      "source": [
        "# How many episodes to train on? If 0, assume all episodes\n",
        "EP_COUNT = 6000\n",
        "\n",
        "# How many times to cycle through all episodes in training?\n",
        "EPOCHS = 1\n",
        "\n",
        "# How many batches to run together?\n",
        "BATCH_SIZE = 1\n",
        "\n",
        "# Sample length for samples generated from model\n",
        "SAMPLE_LENGTH = 500\n",
        "SAMPLE_COUNT = 6\n",
        "\n",
        "# What text should we train on? Default is Star Trek episodes\n",
        "TRAINING_FILE_PATH = os.path.join(\"trekbot\", \"data\", \"film_text.txt\")"
      ],
      "execution_count": 0,
      "outputs": []
    },
    {
      "cell_type": "code",
      "metadata": {
        "id": "UXfDYNmcMc-o",
        "colab_type": "code",
        "outputId": "a4259d4a-e676-4e09-9e6c-abf779c80080",
        "colab": {
          "base_uri": "https://localhost:8080/",
          "height": 121
        }
      },
      "source": [
        "# Clone repo with dataset\n",
        "\n",
        "if not os.path.exists('trekbot'):\n",
        "  os.mkdir('trekbot')\n",
        "  !git clone https://github.com/alexcg1/trekbot_script-writer.git trekbot\n",
        "else:\n",
        "  %cd trekbot\n",
        "  !git pull\n",
        "  %cd .."
      ],
      "execution_count": 7,
      "outputs": [
        {
          "output_type": "stream",
          "text": [
            "Cloning into 'trekbot'...\n",
            "remote: Enumerating objects: 47, done.\u001b[K\n",
            "remote: Counting objects: 100% (47/47), done.\u001b[K\n",
            "remote: Compressing objects: 100% (37/37), done.\u001b[K\n",
            "remote: Total 47 (delta 13), reused 41 (delta 7), pack-reused 0\n",
            "Unpacking objects: 100% (47/47), done.\n"
          ],
          "name": "stdout"
        }
      ]
    },
    {
      "cell_type": "code",
      "metadata": {
        "id": "CuH73DmNOyMt",
        "colab_type": "code",
        "colab": {}
      },
      "source": [
        "# Copy out includes\n",
        "!cp trekbot/*.py ."
      ],
      "execution_count": 0,
      "outputs": []
    },
    {
      "cell_type": "code",
      "metadata": {
        "trusted": true,
        "id": "aVqGbT0qczyr",
        "colab_type": "code",
        "colab": {}
      },
      "source": [
        "FILENAME_SUFFIX = str(datetime.now())[:10]\n",
        "\n",
        "# Filename for output scripts\n",
        "SCRIPT_DIR = f\"training-scripts/\"\n",
        "SCRIPT_FILENAME = f\"scripts-{FILENAME_SUFFIX}.txt\"\n",
        "\n",
        "# Directory to save model\n",
        "OUTPUT_MODEL_DIR = f\"models/trekbot\"\n",
        "OUTPUT_MODEL_FILENAME = f\"model.txt\"\n",
        "\n",
        "# This variable already used in code later\n",
        "output_dir = OUTPUT_MODEL_DIR"
      ],
      "execution_count": 0,
      "outputs": []
    },
    {
      "cell_type": "code",
      "metadata": {
        "trusted": true,
        "id": "R9QB4OJrczyx",
        "colab_type": "code",
        "outputId": "98e9d3c3-9c5d-4102-a6bf-fa7efeccbaba",
        "colab": {
          "base_uri": "https://localhost:8080/",
          "height": 69
        }
      },
      "source": [
        "from utils import Setup\n",
        "dirs = ['models', SCRIPT_DIR, 'samples']\n",
        "\n",
        "Setup.dir_setup(dirs) # Setup directory structure"
      ],
      "execution_count": 10,
      "outputs": [
        {
          "output_type": "stream",
          "text": [
            "Created models\n",
            "Created training-scripts/\n",
            "Created samples\n"
          ],
          "name": "stdout"
        }
      ]
    },
    {
      "cell_type": "markdown",
      "metadata": {
        "id": "4QXoUM-JczzE",
        "colab_type": "text"
      },
      "source": [
        "### Load Dataset\n",
        "\n",
        "It's already pickled for fast loading"
      ]
    },
    {
      "cell_type": "code",
      "metadata": {
        "trusted": true,
        "id": "k1FIOGHOczzF",
        "colab_type": "code",
        "outputId": "939d4ded-3dc5-40f8-9139-9ef0a764b57b",
        "colab": {
          "base_uri": "https://localhost:8080/",
          "height": 34
        }
      },
      "source": [
        "import pickle\n",
        "import language_modelling\n",
        "\n",
        "pickle_path = os.path.join(\"trekbot\", \"data\", \"gpt2_trekbot.txt\")\n",
        "dataset = pickle.load(open(pickle_path, \"rb\"))\n",
        "print(f\"Dataset has {len(dataset)} scripts total\")"
      ],
      "execution_count": 11,
      "outputs": [
        {
          "output_type": "stream",
          "text": [
            "Dataset has 13051 scripts total\n"
          ],
          "name": "stdout"
        }
      ]
    },
    {
      "cell_type": "markdown",
      "metadata": {
        "id": "Y0VfB0cgczzK",
        "colab_type": "text"
      },
      "source": [
        "### Set episode count\n",
        "\n",
        "For testing the whole pipeline works, I'm just running it with a few episodes to start with"
      ]
    },
    {
      "cell_type": "code",
      "metadata": {
        "trusted": true,
        "id": "7N4GrKteczzL",
        "colab_type": "code",
        "colab": {}
      },
      "source": [
        "if EP_COUNT != 0:\n",
        "    dataset = dataset[:EP_COUNT]"
      ],
      "execution_count": 0,
      "outputs": []
    },
    {
      "cell_type": "code",
      "metadata": {
        "trusted": true,
        "id": "xEZPSdpaczzP",
        "colab_type": "code",
        "outputId": "917b321d-e378-4774-91b4-fbfbfd6c0243",
        "colab": {
          "base_uri": "https://localhost:8080/",
          "height": 34
        }
      },
      "source": [
        "script_loader = DataLoader(dataset,batch_size=1,shuffle=True)\n",
        "if EP_COUNT != 0:\n",
        "    print(f\"Loaded {EP_COUNT} scripts from dataset\")\n",
        "else:\n",
        "    print(\"Loaded all scripts from dataset\")"
      ],
      "execution_count": 13,
      "outputs": [
        {
          "output_type": "stream",
          "text": [
            "Loaded 6000 scripts from dataset\n"
          ],
          "name": "stdout"
        }
      ]
    },
    {
      "cell_type": "code",
      "metadata": {
        "trusted": true,
        "id": "-Tw18Y-eczzV",
        "colab_type": "code",
        "colab": {}
      },
      "source": [
        "LEARNING_RATE = 0.00006 # Faster uses more GPU?\n",
        "WARMUP_STEPS = 10000"
      ],
      "execution_count": 0,
      "outputs": []
    },
    {
      "cell_type": "code",
      "metadata": {
        "trusted": true,
        "id": "BKrMZlpEczzX",
        "colab_type": "code",
        "colab": {}
      },
      "source": [
        "model = model.to(device)\n",
        "model.train() # Start training mode\n",
        "optimizer = AdamW(model.parameters(), lr=LEARNING_RATE)\n",
        "scheduler = get_linear_schedule_with_warmup(optimizer, num_warmup_steps=WARMUP_STEPS, num_training_steps=-1)\n",
        "script_count = 0\n",
        "sum_loss = 0.0\n",
        "batch_count = 0"
      ],
      "execution_count": 0,
      "outputs": []
    },
    {
      "cell_type": "code",
      "metadata": {
        "trusted": true,
        "id": "po4DnCngczzd",
        "colab_type": "code",
        "colab": {}
      },
      "source": [
        "total = len(dataset) # number of items in dataset"
      ],
      "execution_count": 0,
      "outputs": []
    },
    {
      "cell_type": "code",
      "metadata": {
        "trusted": true,
        "id": "6wmhpsUxczzg",
        "colab_type": "code",
        "outputId": "12c18245-8f47-49d9-ae8d-001f4c78c9ee",
        "colab": {
          "base_uri": "https://localhost:8080/",
          "height": 34
        }
      },
      "source": [
        "SAMPLE_INTERVAL = int(total/SAMPLE_COUNT)\n",
        "# total_sample_count = floor(total/SAMPLE_INTERVAL)\n",
        "print(f\"Total samples: {SAMPLE_COUNT}\")"
      ],
      "execution_count": 17,
      "outputs": [
        {
          "output_type": "stream",
          "text": [
            "Total samples: 6\n"
          ],
          "name": "stdout"
        }
      ]
    },
    {
      "cell_type": "code",
      "metadata": {
        "trusted": true,
        "id": "GDlHhuatczzl",
        "colab_type": "code",
        "outputId": "c948b91f-259f-46c5-e22a-3efbbe4f3acb",
        "colab": {
          "base_uri": "https://localhost:8080/",
          "height": 34
        }
      },
      "source": [
        "start_time = datetime.now().strftime(\"%H:%M:%S\")\n",
        "print(f\"Start: {start_time}\")"
      ],
      "execution_count": 18,
      "outputs": [
        {
          "output_type": "stream",
          "text": [
            "Start: 00:38:28\n"
          ],
          "name": "stdout"
        }
      ]
    },
    {
      "cell_type": "code",
      "metadata": {
        "trusted": true,
        "id": "1ZtgToE7czzo",
        "colab_type": "code",
        "outputId": "274035dd-d6b0-4066-ee5e-3e3c456b80c2",
        "colab": {
          "base_uri": "https://localhost:8080/",
          "height": 34
        }
      },
      "source": [
        "from utils import Diag\n",
        "# Setup diagnostics\n",
        "losses = []\n",
        "loss_log = \"loss_rate.csv\"\n",
        "\n",
        "Diag.setup(loss_log)"
      ],
      "execution_count": 19,
      "outputs": [
        {
          "output_type": "stream",
          "text": [
            "Creating new log at loss_rate.csv\n"
          ],
          "name": "stdout"
        }
      ]
    },
    {
      "cell_type": "code",
      "metadata": {
        "id": "-XWddr6zhuZg",
        "colab_type": "code",
        "colab": {}
      },
      "source": [
        "from ipywidgets import IntProgress\n",
        "from IPython.display import display\n",
        "progress_bar = IntProgress(min=0, max=total) # instantiate the bar"
      ],
      "execution_count": 0,
      "outputs": []
    },
    {
      "cell_type": "code",
      "metadata": {
        "trusted": true,
        "id": "y_dcQ4bFczzz",
        "colab_type": "code",
        "outputId": "9efabdbf-be87-4066-ec1e-dd0c705f4edc",
        "colab": {
          "base_uri": "https://localhost:8080/",
          "height": 34,
          "referenced_widgets": [
            "9169b9d60bb243e59790dc509e4a5c39",
            "ba5f2689d0604314b19b3e6e6239edc9",
            "4b4bbec2ff2c431bbc146cab699a999c"
          ]
        }
      },
      "source": [
        "display(progress_bar)\n",
        "for epoch in range(EPOCHS):\n",
        "    print(f\"EPOCH {epoch} started\" + '=' * 30)\n",
        "    for idx,script in enumerate(script_loader):\n",
        "                \n",
        "        outputs = model(script.to(device), labels=script.to(device))\n",
        "        \n",
        "        loss, logits = outputs[:2]\n",
        "        timestamp = datetime.now().strftime(\"%H:%M:%S\")\n",
        "        \n",
        "        loss.backward()\n",
        "\n",
        "        sum_loss = sum_loss + loss.detach().data\n",
        "                       \n",
        "        script_count = script_count + 1\n",
        "        if script_count == BATCH_SIZE:\n",
        "            script_count = 0    \n",
        "            batch_count += 1\n",
        "            optimizer.step()\n",
        "            scheduler.step() \n",
        "            optimizer.zero_grad()\n",
        "            model.zero_grad()\n",
        "        \n",
        "        if batch_count == SAMPLE_INTERVAL:\n",
        "            append_string = f\"\\t| Appending script to {SCRIPT_FILENAME}...\"\n",
        "        else:\n",
        "            append_string = ''\n",
        "        \n",
        "        # Update progress bar\n",
        "        progress_bar.value +=1\n",
        "\n",
        "        # Update output display\n",
        "        clear_output(wait=True) # Clear and update display, otherwise endless scroll\n",
        "        percent = round((idx/total)*100, 5)\n",
        "        rounded_loss = round(float(loss.detach().data), 3)\n",
        "        rounded_sum_loss = round(float(sum_loss), 2)\n",
        "        losses.append(rounded_loss)\n",
        "        print(f\"{timestamp}: Processing {idx}/{total} \\t {percent}% \\tLoss: {rounded_loss} {append_string}\")\n",
        "        data = [timestamp, LEARNING_RATE, rounded_loss]\n",
        "        Diag.write_row(data, loss_log)\n",
        "        if batch_count == SAMPLE_INTERVAL:\n",
        "            print(\"Saving script\")\n",
        "            model.eval()\n",
        "            # losses.append(sum_loss)\n",
        "            sample_outputs = model.generate(\n",
        "                                    bos_token_id=random.randint(1,30000),\n",
        "                                    do_sample=True,   \n",
        "                                    top_k=50, \n",
        "                                    max_length = SAMPLE_LENGTH,\n",
        "                                    top_p=0.95, \n",
        "                                    num_return_sequences=1\n",
        "                                )\n",
        "\n",
        "            for i, sample_output in enumerate(sample_outputs):\n",
        "                SCRIPT_PATH = os.path.join(SCRIPT_DIR, SCRIPT_FILENAME)\n",
        "                with open(SCRIPT_PATH, \"a\") as file:\n",
        "                    file.write(\"\\n\\n\")\n",
        "                    file.write(\"*\" * 80)\n",
        "                    file.write(\"\\n\\n\")\n",
        "                    file.write(tokenizer.decode(sample_output, skip_special_tokens=True))\n",
        "                    print(f\"Script appended to {SCRIPT_FILENAME}\")\n",
        "            \n",
        "            batch_count = 0\n",
        "            sum_loss = 0.0\n",
        "            model.train()"
      ],
      "execution_count": 25,
      "outputs": [
        {
          "output_type": "stream",
          "text": [
            "01:44:07: Processing 5999/6000 \t 99.983% \tLoss: 2.485 | Sum loss: 1697.46 \n"
          ],
          "name": "stdout"
        }
      ]
    },
    {
      "cell_type": "code",
      "metadata": {
        "trusted": true,
        "id": "L6bj1_Tqczz3",
        "colab_type": "code",
        "colab": {
          "base_uri": "https://localhost:8080/",
          "height": 52
        },
        "outputId": "ce6227f3-ee6f-48ad-d4b9-870458061237"
      },
      "source": [
        "end_time = datetime.now().strftime(\"%H:%M:%S\")\n",
        "print(f\"Start: {start_time}\")\n",
        "print(f\"End: {end_time}\")"
      ],
      "execution_count": 26,
      "outputs": [
        {
          "output_type": "stream",
          "text": [
            "Start: 00:38:28\n",
            "End: 01:44:30\n"
          ],
          "name": "stdout"
        }
      ]
    },
    {
      "cell_type": "markdown",
      "metadata": {
        "id": "k0BUzduodBtj",
        "colab_type": "text"
      },
      "source": [
        "### Analyze Training\n",
        "\n",
        "You can skip this if you want. It just gives you an idea if the training is improving the loss rate or not. If things are going well, you should see a downward sloping graph"
      ]
    },
    {
      "cell_type": "code",
      "metadata": {
        "id": "LZZSeJUUdIox",
        "colab_type": "code",
        "colab": {
          "base_uri": "https://localhost:8080/",
          "height": 303
        },
        "outputId": "4ded07fc-124c-468b-9f61-34846a1015de"
      },
      "source": [
        "y = np.array(losses[0:6000])\n",
        "x = np.array(range(total))\n",
        "print(len(y))\n",
        "print(len(x))\n",
        "m, b = np.polyfit(x, y, 1)\n",
        "\n",
        "from matplotlib import pyplot as plt\n",
        "plt.plot(x, y)\n",
        "plt.plot(x, m*x + b)\n",
        "plt.show()"
      ],
      "execution_count": 34,
      "outputs": [
        {
          "output_type": "stream",
          "text": [
            "6000\n",
            "6000\n"
          ],
          "name": "stdout"
        },
        {
          "output_type": "display_data",
          "data": {
            "image/png": "[encoded data removed]",
            "text/plain": [
              "<Figure size 432x288 with 1 Axes>"
            ]
          },
          "metadata": {
            "tags": [],
            "needs_background": "light"
          }
        }
      ]
    },
    {
      "cell_type": "markdown",
      "metadata": {
        "id": "GyMv1jyMczz6",
        "colab_type": "text"
      },
      "source": [
        "### Save Trained Model"
      ]
    },
    {
      "cell_type": "code",
      "metadata": {
        "trusted": true,
        "id": "XhIOzp13czz7",
        "colab_type": "code",
        "colab": {
          "base_uri": "https://localhost:8080/",
          "height": 69
        },
        "outputId": "901b74e8-4595-492f-a47a-5a993bc03224"
      },
      "source": [
        "# os.chdir(\"/kaggle/working\")\n",
        "os.mkdir(OUTPUT_MODEL_DIR)\n",
        "\n",
        "from transformers import WEIGHTS_NAME, CONFIG_NAME\n",
        "output_model_file = os.path.join(OUTPUT_MODEL_DIR, WEIGHTS_NAME)\n",
        "output_config_file = os.path.join(OUTPUT_MODEL_DIR, CONFIG_NAME)\n",
        "\n",
        "torch.save(model.state_dict(), output_model_file)\n",
        "print(f\"Saved {output_model_file} to {OUTPUT_MODEL_DIR}\")\n",
        "model.config.to_json_file(output_config_file)\n",
        "print(f\"Saved {output_config_file} to {OUTPUT_MODEL_DIR}\")\n",
        "tokenizer.save_vocabulary(OUTPUT_MODEL_DIR)\n",
        "print(f\"Saved vocabulary to {OUTPUT_MODEL_DIR}\")"
      ],
      "execution_count": 35,
      "outputs": [
        {
          "output_type": "stream",
          "text": [
            "Saved models/trekbot/pytorch_model.bin to models/trekbot\n",
            "Saved models/trekbot/config.json to models/trekbot\n",
            "Saved vocabulary to models/trekbot\n"
          ],
          "name": "stdout"
        }
      ]
    },
    {
      "cell_type": "code",
      "metadata": {
        "trusted": true,
        "id": "A7UhI6P9czz-",
        "colab_type": "code",
        "colab": {
          "base_uri": "https://localhost:8080/",
          "height": 34
        },
        "outputId": "a969879a-0b58-47d6-c42d-f556ea892415"
      },
      "source": [
        "# Saved model will be used to generate samples\n",
        "model = GPT2LMHeadModel.from_pretrained(output_dir)\n",
        "tokenizer = GPT2Tokenizer.from_pretrained(output_dir)\n",
        "print(f\"Loaded model and tokenizer from {output_dir}\")"
      ],
      "execution_count": 36,
      "outputs": [
        {
          "output_type": "stream",
          "text": [
            "Loaded model and tokenizer from models/trekbot\n"
          ],
          "name": "stdout"
        }
      ]
    },
    {
      "cell_type": "markdown",
      "metadata": {
        "id": "aLFXnjiFIU5m",
        "colab_type": "text"
      },
      "source": [
        "## Generate Samples"
      ]
    },
    {
      "cell_type": "code",
      "metadata": {
        "trusted": true,
        "id": "z140L3H8cz0C",
        "colab_type": "code",
        "colab": {}
      },
      "source": [
        "def generate_sample(length):\n",
        "  model.eval() # Turn on evaluation mode instead of training\n",
        "  output = model.generate(\n",
        "      bos_token_id=random.randint(1,30000),\n",
        "      do_sample=True,   \n",
        "      top_k=50, \n",
        "      max_length = length,\n",
        "      top_p=0.95, \n",
        "      num_return_sequences=1\n",
        "      )\n",
        "\n",
        "  content = tokenizer.decode(output[0], skip_special_tokens=True)\n",
        "\n",
        "  return content"
      ],
      "execution_count": 0,
      "outputs": []
    },
    {
      "cell_type": "code",
      "metadata": {
        "id": "XBEOpdko00iT",
        "colab_type": "code",
        "colab": {}
      },
      "source": [
        "sample_scripts = []"
      ],
      "execution_count": 0,
      "outputs": []
    },
    {
      "cell_type": "code",
      "metadata": {
        "id": "Gnr76Ii_z3Gy",
        "colab_type": "code",
        "colab": {
          "base_uri": "https://localhost:8080/",
          "height": 52
        },
        "outputId": "2c9c04d2-ae27-46f2-be5d-4927e30a37b8"
      },
      "source": [
        "SAMPLE_COUNT = 1\n",
        "for i in range(SAMPLE_COUNT):\n",
        "  print(f\"Generating script {i+1} of {SAMPLE_COUNT}\")\n",
        "  sample_script = generate_sample(SAMPLE_LENGTH)\n",
        "  sample_scripts.append(sample_script)"
      ],
      "execution_count": 49,
      "outputs": [
        {
          "output_type": "stream",
          "text": [
            "Setting `pad_token_id` to 50256 (first `eos_token_id`) to generate sequence\n"
          ],
          "name": "stderr"
        },
        {
          "output_type": "stream",
          "text": [
            "Generating script 1 of 1\n"
          ],
          "name": "stdout"
        }
      ]
    },
    {
      "cell_type": "code",
      "metadata": {
        "id": "eKpQD-G013ze",
        "colab_type": "code",
        "colab": {
          "base_uri": "https://localhost:8080/",
          "height": 1000
        },
        "outputId": "ac9d75a2-fe8f-4ee8-a47c-a3befd87de07"
      },
      "source": [
        "for script in sample_scripts:\n",
        "  print(script)\n",
        "  print(f\"\\n\\n\")"
      ],
      "execution_count": 51,
      "outputs": [
        {
          "output_type": "stream",
          "text": [
            "dogs. We knew you wouldn't stay. \n",
            "(Raj sits on the grass, looking into the abyss.)\n",
            "\n",
            " [Holding cell]\n",
            "\n",
            "(Raj is in a cell, and Dax is at a table.) \n",
            "DAX: What are you doing? \n",
            "ODO: I'm trying to make this go away. I have to help them. \n",
            "DUKAT: You can't just turn your back on them. \n",
            "ODO: I don't know. \n",
            "RISSA: I'm not sure this is the best time for you to turn your back on the\n",
            "Dominion. I mean, I understand you've been in Starfleet for two years. \n",
            "ODO: And I understand the Federation can't allow our Federation to\n",
            "destroy itself. \n",
            "DUKAT: But the sooner you accept these facts, the sooner we can reach\n",
            "a solution, which is exactly what we're trying to do. I've known\n",
            "Federation officials for twenty years. I can't just give up a job I\n",
            "am passionate about. \n",
            "ODO: What's the plan? \n",
            "DUKAT: I'm sorry, I just can't seem to find a better time. \n",
            "ODO: The more I hear about Cardassian security procedures, the more\n",
            "concerns I have. \n",
            "DUKAT: I'm sorry. I know they're trying to kill me. But they're\n",
            "not here to get me. Now, if I can just convince the FCA to give\n",
            "their blessing, I'll convince them to bring me up on charges. \n",
            "(He shakes his head.) \n",
            "ODO: I don't know. All I know is that there has to be some way to\n",
            "keep those people from killing me in the future. I can't just let them\n",
            "take it from me. \n",
            "DUKAT: This is the first I know of it. \n",
            "KIRA: He'd better get out of here soon, Dukat. \n",
            "DUKAT: You know, I actually appreciate your opinion on this. \n",
            "KIRA: No, this is no way for me to thank you. I just really wish you had\n",
            "shown some support before.\n",
            "\n",
            " [Promenade - upper level] \n",
            "(Bashir comes to the turbolift and looks out the\n",
            "front. The upper pylon has broken\n",
            "\n",
            "\n",
            "\n",
            " imminent. \n",
            "KIRK: How much for the boy? \n",
            "COMPUTER: I am afraid it is all a waste of time. \n",
            "KIRK: We have more pressing matters to discuss. Let me get out\n",
            "here and let it be a day at least. \n",
            "O'BRIEN: That's a good idea.\n",
            "\n",
            " [Mess hall] \n",
            "(The children are gathered around a large table with\n",
            "big platters of food, a tricorder and a small tricorder with a\n",
            "lamp) \n",
            "MCCOY: They're very good. \n",
            "O'BRIEN: Good to see you. \n",
            "KIRK: Thanks, Bones. Doctor McCoy, is there something you want to say to\n",
            "me? \n",
            "MCCOY: A bit of a mystery. \n",
            "KIRK: Well, I suppose that would be a good time. \n",
            "MCCOY: Very funny. \n",
            "KIRK: Mister Spock, why are you helping me? \n",
            "SPOCK: If it would help, I would. \n",
            "KIRK: Do you know anything at all about it? \n",
            "SPOCK: I merely think that I could use the presence of our guest,\n",
            "Captain. \n",
            "MCCOY: We'll give it our best shot. \n",
            "KIRK: Thank you, Doctor. \n",
            "SPOCK: Thank you. \n",
            "(Spock leaves them, and the tricorder) \n",
            "MCCOY: How did Spock get in here? \n",
            "MCCOY: I don't know. I'd better go, Doctor. I'll call in on\n",
            "the ship's log. \n",
            "MCCOY: On my way. \n",
            "[Bridge] \n",
            "(Sulu, Scott, McCoy and Kirk enter) \n",
            "SULU: Sir? \n",
            "KIRK: Sulu. \n",
            "SULU: Jim, what is it? \n",
            "KIRK: The Enterprise's been under attack. \n",
            "SULU: Sir, there's a mine under the planet surface. \n",
            "MCCOY: That's a problem with mines. \n",
            "SULU: Captain, a mine. A mine at an enemy minefield. \n",
            "KIRK: This minefield is the enemy. \n",
            "SULU: It's a mine. It's for the\n",
            "\n",
            "\n",
            "\n",
            " Lv. 4.\n",
            "The Bridge crew are here, Captain. \n",
            "RIKER: What about the Bridge? \n",
            "PICARD: Data? \n",
            "RIKER: What, Captain? \n",
            "PICARD: It's about time. We're all in for a good time. \n",
            "RIKER: No. Let's go. \n",
            "PICARD: No. I'll wait and see what happens. \n",
            "RIKER: We're going to get the hell out of here. \n",
            "PICARD: Wait. \n",
            "RIKER: The Captain. He's right. I've had it with that stupid Captain.\n",
            "How can I get him to talk to me? I'm not one of you anymore. \n",
            "PICARD: How do you know that? I don't think you'd understand. I'm not\n",
            "that bad as an officer. I'm just a pretty girl. \n",
            "RIKER: No. \n",
            "PICARD: And you're not that nice either. \n",
            "RIKER: Not anymore. I'm not a good officer. \n",
            "PICARD: No, I understand. That's fine with me, but you are and you're\n",
            "better than the ship's Captain. You know what it's like to give up\n",
            "that much, to give up yourself, to let someone else take your\n",
            "place. You know what it's like to be so selfish that you'll give anything\n",
            "to achieve that, even your own glory. You know what I mean? The captain\n",
            "has got to give up something, something he wants you to know, that's\n",
            "deep and personal. You know what it's like to be so petty. To think\n",
            "the captain of the Enterprise has always been so petty. He'll never\n",
            "give up his honour and to give that up. And I don't want to give up\n",
            "anything for nothing, Number One. \n",
            "RIKER: And I don't want to let him give up anything either, for nothing. I\n",
            "will never turn you over to anyone except to make you a better officer.\n",
            "And I will fight the Captain wherever I can, no matter how it pains\n",
            "him. \n",
            "PICARD: Then I'll make a full report to the Admiral and I'll send my officers back\n",
            "to their barracks, right? Right? \n",
            "RIKER: Right. You're going back.\n",
            "\n",
            " [Bridge]\n",
            "\n",
            "P\n",
            "\n",
            "\n",
            "\n"
          ],
          "name": "stdout"
        }
      ]
    },
    {
      "cell_type": "code",
      "metadata": {
        "trusted": true,
        "id": "vIGFvREgcz0F",
        "colab_type": "code",
        "outputId": "b4c8802a-db96-474b-81ea-3072fdedb756",
        "colab": {
          "base_uri": "https://localhost:8080/",
          "height": 69
        }
      },
      "source": [
        "# Save sample scripts\n",
        "for i, script in enumerate(sample_scripts):\n",
        "    filename = f'script_{i+1:03}.txt'\n",
        "    file_path = f'samples/{filename}'\n",
        "    with open(file_path, 'w') as file:\n",
        "        file.write(script)\n",
        "    print(f\"{filename} written\")"
      ],
      "execution_count": 52,
      "outputs": [
        {
          "output_type": "stream",
          "text": [
            "script_001.txt written\n",
            "script_002.txt written\n",
            "script_003.txt written\n"
          ],
          "name": "stdout"
        }
      ]
    },
    {
      "cell_type": "code",
      "metadata": {
        "trusted": true,
        "id": "xTQOxxrQcz0I",
        "colab_type": "code",
        "colab": {
          "base_uri": "https://localhost:8080/",
          "height": 34
        },
        "outputId": "5a99c267-726b-46c1-a9df-00ecaaaea3ac"
      },
      "source": [
        "# Zip samples\n",
        "os.chdir('samples')\n",
        "with ZipFile('samples.zip', 'w') as zipObj:\n",
        "    for filename in os.listdir():\n",
        "        if not filename.endswith(\".zip\"):\n",
        "            zipObj.write(filename)\n",
        "\n",
        "print(\"samples.zip created\")"
      ],
      "execution_count": 53,
      "outputs": [
        {
          "output_type": "stream",
          "text": [
            "samples.zip created\n"
          ],
          "name": "stdout"
        }
      ]
    }
  ]
}